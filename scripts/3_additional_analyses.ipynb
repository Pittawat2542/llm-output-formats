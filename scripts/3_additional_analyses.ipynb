{
 "cells": [
  {
   "cell_type": "code",
   "source": [
    "from pathlib import Path\n",
    "import pandas as pd\n",
    "import json"
   ],
   "metadata": {
    "collapsed": false,
    "ExecuteTime": {
     "end_time": "2024-06-10T11:43:39.509799Z",
     "start_time": "2024-06-10T11:43:37.847770Z"
    }
   },
   "id": "32bfa3bcfde2e8c3",
   "outputs": [],
   "execution_count": 2
  },
  {
   "cell_type": "markdown",
   "source": [
    "# EDA"
   ],
   "metadata": {
    "collapsed": false
   },
   "id": "8a1fd16642e5926e"
  },
  {
   "cell_type": "code",
   "source": [
    "root_path = Path(\"../experiment_results\")\n",
    "llms_path_outputs = root_path / \"outputs\"\n",
    "llms_path_parsed_outputs = root_path / \"parsed_outputs\""
   ],
   "metadata": {
    "collapsed": false,
    "ExecuteTime": {
     "end_time": "2024-06-10T11:43:39.512124Z",
     "start_time": "2024-06-10T11:43:39.510591Z"
    }
   },
   "id": "f60de1242a2a40fe",
   "outputs": [],
   "execution_count": 3
  },
  {
   "cell_type": "code",
   "id": "initial_id",
   "metadata": {
    "collapsed": true,
    "ExecuteTime": {
     "end_time": "2024-06-10T11:43:39.536639Z",
     "start_time": "2024-06-10T11:43:39.512551Z"
    }
   },
   "source": [
    "with open(llms_path_parsed_outputs / \"summarized_results.json\", 'r') as f:\n",
    "    parsed_jsons = json.loads(f.read())\n",
    "    summarized_results = parsed_jsons.get(\"results\", None)\n",
    "error_df = pd.read_csv(llms_path_outputs / \"error_categories.csv\")"
   ],
   "outputs": [],
   "execution_count": 4
  },
  {
   "cell_type": "markdown",
   "source": [
    "## Data Integrity Checking"
   ],
   "metadata": {
    "collapsed": false
   },
   "id": "63425fa6cf63e50c"
  },
  {
   "cell_type": "code",
   "source": [
    "task_subfolders = [folder for folder in llms_path_outputs.iterdir() if folder.is_dir()]\n",
    "for task_path in task_subfolders:\n",
    "    model_subfolders = [folder for folder in task_path.iterdir() if folder.is_dir()]\n",
    "    for model_path in model_subfolders:\n",
    "        format_subfolders = [folder for folder in model_path.iterdir() if folder.is_dir()]\n",
    "        for format_path in format_subfolders:\n",
    "            files = [file for file in format_path.glob(\"*.txt\")]\n",
    "            if len(files) != 100:\n",
    "                print(str(format_path), len(files))"
   ],
   "metadata": {
    "collapsed": false,
    "ExecuteTime": {
     "end_time": "2024-06-10T11:43:39.552483Z",
     "start_time": "2024-06-10T11:43:39.537632Z"
    }
   },
   "id": "36a915bae337c87c",
   "outputs": [],
   "execution_count": 5
  },
  {
   "cell_type": "markdown",
   "source": [
    "## Grouping"
   ],
   "metadata": {
    "collapsed": false
   },
   "id": "c5dd4bdb2779ecd"
  },
  {
   "cell_type": "markdown",
   "source": [
    "### What happens to PaLM 2?"
   ],
   "metadata": {
    "collapsed": false
   },
   "id": "c013b84c51d5e09b"
  },
  {
   "cell_type": "code",
   "source": [
    "df_palm = error_df[error_df[\"model\"] == \"palm\"]\n",
    "df_palm = df_palm.groupby([\"task\", \"error\"]).agg({\"error_message\": \"count\"}).reset_index()\n",
    "df_palm"
   ],
   "metadata": {
    "collapsed": false,
    "ExecuteTime": {
     "end_time": "2024-06-10T11:43:39.560936Z",
     "start_time": "2024-06-10T11:43:39.553006Z"
    }
   },
   "id": "87218803e75e3ed7",
   "outputs": [
    {
     "data": {
      "text/plain": [
       "        task             error  error_message\n",
       "0  character    empty_response            300\n",
       "1   dialogue    empty_response            134\n",
       "2   dialogue  incorrect_syntax              3\n",
       "3      enemy    empty_response            300\n",
       "4      quest    empty_response            300\n",
       "5      story    empty_response            300"
      ],
      "text/html": [
       "<div>\n",
       "<style scoped>\n",
       "    .dataframe tbody tr th:only-of-type {\n",
       "        vertical-align: middle;\n",
       "    }\n",
       "\n",
       "    .dataframe tbody tr th {\n",
       "        vertical-align: top;\n",
       "    }\n",
       "\n",
       "    .dataframe thead th {\n",
       "        text-align: right;\n",
       "    }\n",
       "</style>\n",
       "<table border=\"1\" class=\"dataframe\">\n",
       "  <thead>\n",
       "    <tr style=\"text-align: right;\">\n",
       "      <th></th>\n",
       "      <th>task</th>\n",
       "      <th>error</th>\n",
       "      <th>error_message</th>\n",
       "    </tr>\n",
       "  </thead>\n",
       "  <tbody>\n",
       "    <tr>\n",
       "      <th>0</th>\n",
       "      <td>character</td>\n",
       "      <td>empty_response</td>\n",
       "      <td>300</td>\n",
       "    </tr>\n",
       "    <tr>\n",
       "      <th>1</th>\n",
       "      <td>dialogue</td>\n",
       "      <td>empty_response</td>\n",
       "      <td>134</td>\n",
       "    </tr>\n",
       "    <tr>\n",
       "      <th>2</th>\n",
       "      <td>dialogue</td>\n",
       "      <td>incorrect_syntax</td>\n",
       "      <td>3</td>\n",
       "    </tr>\n",
       "    <tr>\n",
       "      <th>3</th>\n",
       "      <td>enemy</td>\n",
       "      <td>empty_response</td>\n",
       "      <td>300</td>\n",
       "    </tr>\n",
       "    <tr>\n",
       "      <th>4</th>\n",
       "      <td>quest</td>\n",
       "      <td>empty_response</td>\n",
       "      <td>300</td>\n",
       "    </tr>\n",
       "    <tr>\n",
       "      <th>5</th>\n",
       "      <td>story</td>\n",
       "      <td>empty_response</td>\n",
       "      <td>300</td>\n",
       "    </tr>\n",
       "  </tbody>\n",
       "</table>\n",
       "</div>"
      ]
     },
     "execution_count": 6,
     "metadata": {},
     "output_type": "execute_result"
    }
   ],
   "execution_count": 6
  },
  {
   "cell_type": "markdown",
   "source": [
    "### Category Count"
   ],
   "metadata": {
    "collapsed": false
   },
   "id": "bff1f99c7b5c9dbe"
  },
  {
   "cell_type": "code",
   "source": [
    "# Check if there are any errors from PaLM 2\n",
    "error_df[error_df[\"model\"] == \"palm\"].groupby(\"error\").agg({\"error_message\": \"count\"}).reset_index()"
   ],
   "metadata": {
    "collapsed": false,
    "ExecuteTime": {
     "end_time": "2024-06-10T11:43:40.334208Z",
     "start_time": "2024-06-10T11:43:40.329479Z"
    }
   },
   "id": "7d2ad80afc5d2b3c",
   "outputs": [
    {
     "data": {
      "text/plain": [
       "              error  error_message\n",
       "0    empty_response           1334\n",
       "1  incorrect_syntax              3"
      ],
      "text/html": [
       "<div>\n",
       "<style scoped>\n",
       "    .dataframe tbody tr th:only-of-type {\n",
       "        vertical-align: middle;\n",
       "    }\n",
       "\n",
       "    .dataframe tbody tr th {\n",
       "        vertical-align: top;\n",
       "    }\n",
       "\n",
       "    .dataframe thead th {\n",
       "        text-align: right;\n",
       "    }\n",
       "</style>\n",
       "<table border=\"1\" class=\"dataframe\">\n",
       "  <thead>\n",
       "    <tr style=\"text-align: right;\">\n",
       "      <th></th>\n",
       "      <th>error</th>\n",
       "      <th>error_message</th>\n",
       "    </tr>\n",
       "  </thead>\n",
       "  <tbody>\n",
       "    <tr>\n",
       "      <th>0</th>\n",
       "      <td>empty_response</td>\n",
       "      <td>1334</td>\n",
       "    </tr>\n",
       "    <tr>\n",
       "      <th>1</th>\n",
       "      <td>incorrect_syntax</td>\n",
       "      <td>3</td>\n",
       "    </tr>\n",
       "  </tbody>\n",
       "</table>\n",
       "</div>"
      ]
     },
     "execution_count": 7,
     "metadata": {},
     "output_type": "execute_result"
    }
   ],
   "execution_count": 7
  },
  {
   "cell_type": "code",
   "source": [
    "error_df.groupby(\"error\").agg({\"error_message\": \"count\"}).reset_index()"
   ],
   "metadata": {
    "collapsed": false,
    "ExecuteTime": {
     "end_time": "2024-06-10T11:43:41.014155Z",
     "start_time": "2024-06-10T11:43:41.009015Z"
    }
   },
   "id": "511820dded162174",
   "outputs": [
    {
     "data": {
      "text/plain": [
       "              error  error_message\n",
       "0    empty_response           3994\n",
       "1  incorrect_syntax           1300\n",
       "2  key_completeness            129"
      ],
      "text/html": [
       "<div>\n",
       "<style scoped>\n",
       "    .dataframe tbody tr th:only-of-type {\n",
       "        vertical-align: middle;\n",
       "    }\n",
       "\n",
       "    .dataframe tbody tr th {\n",
       "        vertical-align: top;\n",
       "    }\n",
       "\n",
       "    .dataframe thead th {\n",
       "        text-align: right;\n",
       "    }\n",
       "</style>\n",
       "<table border=\"1\" class=\"dataframe\">\n",
       "  <thead>\n",
       "    <tr style=\"text-align: right;\">\n",
       "      <th></th>\n",
       "      <th>error</th>\n",
       "      <th>error_message</th>\n",
       "    </tr>\n",
       "  </thead>\n",
       "  <tbody>\n",
       "    <tr>\n",
       "      <th>0</th>\n",
       "      <td>empty_response</td>\n",
       "      <td>3994</td>\n",
       "    </tr>\n",
       "    <tr>\n",
       "      <th>1</th>\n",
       "      <td>incorrect_syntax</td>\n",
       "      <td>1300</td>\n",
       "    </tr>\n",
       "    <tr>\n",
       "      <th>2</th>\n",
       "      <td>key_completeness</td>\n",
       "      <td>129</td>\n",
       "    </tr>\n",
       "  </tbody>\n",
       "</table>\n",
       "</div>"
      ]
     },
     "execution_count": 8,
     "metadata": {},
     "output_type": "execute_result"
    }
   ],
   "execution_count": 8
  },
  {
   "cell_type": "markdown",
   "source": [
    "## Grouping"
   ],
   "metadata": {
    "collapsed": false
   },
   "id": "8dec6633c9d481b7"
  },
  {
   "cell_type": "markdown",
   "source": [
    "### Grouped by Model"
   ],
   "metadata": {
    "collapsed": false
   },
   "id": "da4fbaad9125230d"
  },
  {
   "cell_type": "code",
   "source": [
    "df_grouped_by_model_error = error_df.groupby([\"model\", \"error\"]).agg({\"error_message\": \"count\"}).reset_index()\n",
    "df_grouped_by_model_error"
   ],
   "metadata": {
    "collapsed": false,
    "ExecuteTime": {
     "end_time": "2024-06-10T11:43:42.323639Z",
     "start_time": "2024-06-10T11:43:42.315816Z"
    }
   },
   "id": "72d2602e24caee12",
   "outputs": [
    {
     "data": {
      "text/plain": [
       "            model             error  error_message\n",
       "0          falcon    empty_response            964\n",
       "1          falcon  incorrect_syntax            333\n",
       "2          falcon  key_completeness             96\n",
       "3      gemini-pro    empty_response             26\n",
       "4      gemini-pro  incorrect_syntax             26\n",
       "5      gemini-pro  key_completeness             16\n",
       "6   gpt-3.5-turbo    empty_response            134\n",
       "7   gpt-3.5-turbo  incorrect_syntax            141\n",
       "8           gpt-4    empty_response             46\n",
       "9           gpt-4  incorrect_syntax             52\n",
       "10        llama-2    empty_response            652\n",
       "11        llama-2  incorrect_syntax            695\n",
       "12        llama-2  key_completeness              2\n",
       "13            mpt    empty_response            838\n",
       "14            mpt  incorrect_syntax             50\n",
       "15            mpt  key_completeness             15\n",
       "16           palm    empty_response           1334\n",
       "17           palm  incorrect_syntax              3"
      ],
      "text/html": [
       "<div>\n",
       "<style scoped>\n",
       "    .dataframe tbody tr th:only-of-type {\n",
       "        vertical-align: middle;\n",
       "    }\n",
       "\n",
       "    .dataframe tbody tr th {\n",
       "        vertical-align: top;\n",
       "    }\n",
       "\n",
       "    .dataframe thead th {\n",
       "        text-align: right;\n",
       "    }\n",
       "</style>\n",
       "<table border=\"1\" class=\"dataframe\">\n",
       "  <thead>\n",
       "    <tr style=\"text-align: right;\">\n",
       "      <th></th>\n",
       "      <th>model</th>\n",
       "      <th>error</th>\n",
       "      <th>error_message</th>\n",
       "    </tr>\n",
       "  </thead>\n",
       "  <tbody>\n",
       "    <tr>\n",
       "      <th>0</th>\n",
       "      <td>falcon</td>\n",
       "      <td>empty_response</td>\n",
       "      <td>964</td>\n",
       "    </tr>\n",
       "    <tr>\n",
       "      <th>1</th>\n",
       "      <td>falcon</td>\n",
       "      <td>incorrect_syntax</td>\n",
       "      <td>333</td>\n",
       "    </tr>\n",
       "    <tr>\n",
       "      <th>2</th>\n",
       "      <td>falcon</td>\n",
       "      <td>key_completeness</td>\n",
       "      <td>96</td>\n",
       "    </tr>\n",
       "    <tr>\n",
       "      <th>3</th>\n",
       "      <td>gemini-pro</td>\n",
       "      <td>empty_response</td>\n",
       "      <td>26</td>\n",
       "    </tr>\n",
       "    <tr>\n",
       "      <th>4</th>\n",
       "      <td>gemini-pro</td>\n",
       "      <td>incorrect_syntax</td>\n",
       "      <td>26</td>\n",
       "    </tr>\n",
       "    <tr>\n",
       "      <th>5</th>\n",
       "      <td>gemini-pro</td>\n",
       "      <td>key_completeness</td>\n",
       "      <td>16</td>\n",
       "    </tr>\n",
       "    <tr>\n",
       "      <th>6</th>\n",
       "      <td>gpt-3.5-turbo</td>\n",
       "      <td>empty_response</td>\n",
       "      <td>134</td>\n",
       "    </tr>\n",
       "    <tr>\n",
       "      <th>7</th>\n",
       "      <td>gpt-3.5-turbo</td>\n",
       "      <td>incorrect_syntax</td>\n",
       "      <td>141</td>\n",
       "    </tr>\n",
       "    <tr>\n",
       "      <th>8</th>\n",
       "      <td>gpt-4</td>\n",
       "      <td>empty_response</td>\n",
       "      <td>46</td>\n",
       "    </tr>\n",
       "    <tr>\n",
       "      <th>9</th>\n",
       "      <td>gpt-4</td>\n",
       "      <td>incorrect_syntax</td>\n",
       "      <td>52</td>\n",
       "    </tr>\n",
       "    <tr>\n",
       "      <th>10</th>\n",
       "      <td>llama-2</td>\n",
       "      <td>empty_response</td>\n",
       "      <td>652</td>\n",
       "    </tr>\n",
       "    <tr>\n",
       "      <th>11</th>\n",
       "      <td>llama-2</td>\n",
       "      <td>incorrect_syntax</td>\n",
       "      <td>695</td>\n",
       "    </tr>\n",
       "    <tr>\n",
       "      <th>12</th>\n",
       "      <td>llama-2</td>\n",
       "      <td>key_completeness</td>\n",
       "      <td>2</td>\n",
       "    </tr>\n",
       "    <tr>\n",
       "      <th>13</th>\n",
       "      <td>mpt</td>\n",
       "      <td>empty_response</td>\n",
       "      <td>838</td>\n",
       "    </tr>\n",
       "    <tr>\n",
       "      <th>14</th>\n",
       "      <td>mpt</td>\n",
       "      <td>incorrect_syntax</td>\n",
       "      <td>50</td>\n",
       "    </tr>\n",
       "    <tr>\n",
       "      <th>15</th>\n",
       "      <td>mpt</td>\n",
       "      <td>key_completeness</td>\n",
       "      <td>15</td>\n",
       "    </tr>\n",
       "    <tr>\n",
       "      <th>16</th>\n",
       "      <td>palm</td>\n",
       "      <td>empty_response</td>\n",
       "      <td>1334</td>\n",
       "    </tr>\n",
       "    <tr>\n",
       "      <th>17</th>\n",
       "      <td>palm</td>\n",
       "      <td>incorrect_syntax</td>\n",
       "      <td>3</td>\n",
       "    </tr>\n",
       "  </tbody>\n",
       "</table>\n",
       "</div>"
      ]
     },
     "execution_count": 9,
     "metadata": {},
     "output_type": "execute_result"
    }
   ],
   "execution_count": 9
  },
  {
   "cell_type": "code",
   "source": [
    "df_grouped_by_model_error.to_csv(llms_path_outputs / \"grouped_by_model_error.csv\", index=False)"
   ],
   "metadata": {
    "collapsed": false,
    "ExecuteTime": {
     "end_time": "2024-06-10T11:43:42.956876Z",
     "start_time": "2024-06-10T11:43:42.951813Z"
    }
   },
   "id": "d77325df4f2577b3",
   "outputs": [],
   "execution_count": 10
  },
  {
   "cell_type": "markdown",
   "source": [
    "### Grouped by Task"
   ],
   "metadata": {
    "collapsed": false
   },
   "id": "af086ac6297441d1"
  },
  {
   "cell_type": "code",
   "source": [
    "df_grouped_by_task_error = error_df.groupby([\"task\", \"error\"]).agg({\"error_message\": \"count\"}).reset_index()\n",
    "df_grouped_by_task_error"
   ],
   "metadata": {
    "collapsed": false,
    "ExecuteTime": {
     "end_time": "2024-06-10T11:43:44.406104Z",
     "start_time": "2024-06-10T11:43:44.400627Z"
    }
   },
   "id": "22d1631d24b2246c",
   "outputs": [
    {
     "data": {
      "text/plain": [
       "         task             error  error_message\n",
       "0   character    empty_response            787\n",
       "1   character  incorrect_syntax            236\n",
       "2   character  key_completeness             26\n",
       "3    dialogue    empty_response            709\n",
       "4    dialogue  incorrect_syntax            257\n",
       "5    dialogue  key_completeness             22\n",
       "6       enemy    empty_response            814\n",
       "7       enemy  incorrect_syntax            238\n",
       "8       enemy  key_completeness             12\n",
       "9       quest    empty_response            794\n",
       "10      quest  incorrect_syntax            260\n",
       "11      quest  key_completeness             29\n",
       "12      story    empty_response            890\n",
       "13      story  incorrect_syntax            309\n",
       "14      story  key_completeness             40"
      ],
      "text/html": [
       "<div>\n",
       "<style scoped>\n",
       "    .dataframe tbody tr th:only-of-type {\n",
       "        vertical-align: middle;\n",
       "    }\n",
       "\n",
       "    .dataframe tbody tr th {\n",
       "        vertical-align: top;\n",
       "    }\n",
       "\n",
       "    .dataframe thead th {\n",
       "        text-align: right;\n",
       "    }\n",
       "</style>\n",
       "<table border=\"1\" class=\"dataframe\">\n",
       "  <thead>\n",
       "    <tr style=\"text-align: right;\">\n",
       "      <th></th>\n",
       "      <th>task</th>\n",
       "      <th>error</th>\n",
       "      <th>error_message</th>\n",
       "    </tr>\n",
       "  </thead>\n",
       "  <tbody>\n",
       "    <tr>\n",
       "      <th>0</th>\n",
       "      <td>character</td>\n",
       "      <td>empty_response</td>\n",
       "      <td>787</td>\n",
       "    </tr>\n",
       "    <tr>\n",
       "      <th>1</th>\n",
       "      <td>character</td>\n",
       "      <td>incorrect_syntax</td>\n",
       "      <td>236</td>\n",
       "    </tr>\n",
       "    <tr>\n",
       "      <th>2</th>\n",
       "      <td>character</td>\n",
       "      <td>key_completeness</td>\n",
       "      <td>26</td>\n",
       "    </tr>\n",
       "    <tr>\n",
       "      <th>3</th>\n",
       "      <td>dialogue</td>\n",
       "      <td>empty_response</td>\n",
       "      <td>709</td>\n",
       "    </tr>\n",
       "    <tr>\n",
       "      <th>4</th>\n",
       "      <td>dialogue</td>\n",
       "      <td>incorrect_syntax</td>\n",
       "      <td>257</td>\n",
       "    </tr>\n",
       "    <tr>\n",
       "      <th>5</th>\n",
       "      <td>dialogue</td>\n",
       "      <td>key_completeness</td>\n",
       "      <td>22</td>\n",
       "    </tr>\n",
       "    <tr>\n",
       "      <th>6</th>\n",
       "      <td>enemy</td>\n",
       "      <td>empty_response</td>\n",
       "      <td>814</td>\n",
       "    </tr>\n",
       "    <tr>\n",
       "      <th>7</th>\n",
       "      <td>enemy</td>\n",
       "      <td>incorrect_syntax</td>\n",
       "      <td>238</td>\n",
       "    </tr>\n",
       "    <tr>\n",
       "      <th>8</th>\n",
       "      <td>enemy</td>\n",
       "      <td>key_completeness</td>\n",
       "      <td>12</td>\n",
       "    </tr>\n",
       "    <tr>\n",
       "      <th>9</th>\n",
       "      <td>quest</td>\n",
       "      <td>empty_response</td>\n",
       "      <td>794</td>\n",
       "    </tr>\n",
       "    <tr>\n",
       "      <th>10</th>\n",
       "      <td>quest</td>\n",
       "      <td>incorrect_syntax</td>\n",
       "      <td>260</td>\n",
       "    </tr>\n",
       "    <tr>\n",
       "      <th>11</th>\n",
       "      <td>quest</td>\n",
       "      <td>key_completeness</td>\n",
       "      <td>29</td>\n",
       "    </tr>\n",
       "    <tr>\n",
       "      <th>12</th>\n",
       "      <td>story</td>\n",
       "      <td>empty_response</td>\n",
       "      <td>890</td>\n",
       "    </tr>\n",
       "    <tr>\n",
       "      <th>13</th>\n",
       "      <td>story</td>\n",
       "      <td>incorrect_syntax</td>\n",
       "      <td>309</td>\n",
       "    </tr>\n",
       "    <tr>\n",
       "      <th>14</th>\n",
       "      <td>story</td>\n",
       "      <td>key_completeness</td>\n",
       "      <td>40</td>\n",
       "    </tr>\n",
       "  </tbody>\n",
       "</table>\n",
       "</div>"
      ]
     },
     "execution_count": 11,
     "metadata": {},
     "output_type": "execute_result"
    }
   ],
   "execution_count": 11
  },
  {
   "metadata": {
    "ExecuteTime": {
     "end_time": "2024-06-10T11:45:51.375823Z",
     "start_time": "2024-06-10T11:45:51.368891Z"
    }
   },
   "cell_type": "code",
   "source": [
    "# Excluding PaLM 2\n",
    "df_grouped_by_task_error_excl_palm_2 = error_df[error_df['model'] != 'palm'].groupby([\"task\", \"error\"]).agg({\"error_message\": \"count\"}).reset_index()\n",
    "df_grouped_by_task_error_excl_palm_2"
   ],
   "id": "370542abb3fc82ca",
   "outputs": [
    {
     "data": {
      "text/plain": [
       "         task             error  error_message\n",
       "0   character    empty_response            487\n",
       "1   character  incorrect_syntax            236\n",
       "2   character  key_completeness             26\n",
       "3    dialogue    empty_response            575\n",
       "4    dialogue  incorrect_syntax            254\n",
       "5    dialogue  key_completeness             22\n",
       "6       enemy    empty_response            514\n",
       "7       enemy  incorrect_syntax            238\n",
       "8       enemy  key_completeness             12\n",
       "9       quest    empty_response            494\n",
       "10      quest  incorrect_syntax            260\n",
       "11      quest  key_completeness             29\n",
       "12      story    empty_response            590\n",
       "13      story  incorrect_syntax            309\n",
       "14      story  key_completeness             40"
      ],
      "text/html": [
       "<div>\n",
       "<style scoped>\n",
       "    .dataframe tbody tr th:only-of-type {\n",
       "        vertical-align: middle;\n",
       "    }\n",
       "\n",
       "    .dataframe tbody tr th {\n",
       "        vertical-align: top;\n",
       "    }\n",
       "\n",
       "    .dataframe thead th {\n",
       "        text-align: right;\n",
       "    }\n",
       "</style>\n",
       "<table border=\"1\" class=\"dataframe\">\n",
       "  <thead>\n",
       "    <tr style=\"text-align: right;\">\n",
       "      <th></th>\n",
       "      <th>task</th>\n",
       "      <th>error</th>\n",
       "      <th>error_message</th>\n",
       "    </tr>\n",
       "  </thead>\n",
       "  <tbody>\n",
       "    <tr>\n",
       "      <th>0</th>\n",
       "      <td>character</td>\n",
       "      <td>empty_response</td>\n",
       "      <td>487</td>\n",
       "    </tr>\n",
       "    <tr>\n",
       "      <th>1</th>\n",
       "      <td>character</td>\n",
       "      <td>incorrect_syntax</td>\n",
       "      <td>236</td>\n",
       "    </tr>\n",
       "    <tr>\n",
       "      <th>2</th>\n",
       "      <td>character</td>\n",
       "      <td>key_completeness</td>\n",
       "      <td>26</td>\n",
       "    </tr>\n",
       "    <tr>\n",
       "      <th>3</th>\n",
       "      <td>dialogue</td>\n",
       "      <td>empty_response</td>\n",
       "      <td>575</td>\n",
       "    </tr>\n",
       "    <tr>\n",
       "      <th>4</th>\n",
       "      <td>dialogue</td>\n",
       "      <td>incorrect_syntax</td>\n",
       "      <td>254</td>\n",
       "    </tr>\n",
       "    <tr>\n",
       "      <th>5</th>\n",
       "      <td>dialogue</td>\n",
       "      <td>key_completeness</td>\n",
       "      <td>22</td>\n",
       "    </tr>\n",
       "    <tr>\n",
       "      <th>6</th>\n",
       "      <td>enemy</td>\n",
       "      <td>empty_response</td>\n",
       "      <td>514</td>\n",
       "    </tr>\n",
       "    <tr>\n",
       "      <th>7</th>\n",
       "      <td>enemy</td>\n",
       "      <td>incorrect_syntax</td>\n",
       "      <td>238</td>\n",
       "    </tr>\n",
       "    <tr>\n",
       "      <th>8</th>\n",
       "      <td>enemy</td>\n",
       "      <td>key_completeness</td>\n",
       "      <td>12</td>\n",
       "    </tr>\n",
       "    <tr>\n",
       "      <th>9</th>\n",
       "      <td>quest</td>\n",
       "      <td>empty_response</td>\n",
       "      <td>494</td>\n",
       "    </tr>\n",
       "    <tr>\n",
       "      <th>10</th>\n",
       "      <td>quest</td>\n",
       "      <td>incorrect_syntax</td>\n",
       "      <td>260</td>\n",
       "    </tr>\n",
       "    <tr>\n",
       "      <th>11</th>\n",
       "      <td>quest</td>\n",
       "      <td>key_completeness</td>\n",
       "      <td>29</td>\n",
       "    </tr>\n",
       "    <tr>\n",
       "      <th>12</th>\n",
       "      <td>story</td>\n",
       "      <td>empty_response</td>\n",
       "      <td>590</td>\n",
       "    </tr>\n",
       "    <tr>\n",
       "      <th>13</th>\n",
       "      <td>story</td>\n",
       "      <td>incorrect_syntax</td>\n",
       "      <td>309</td>\n",
       "    </tr>\n",
       "    <tr>\n",
       "      <th>14</th>\n",
       "      <td>story</td>\n",
       "      <td>key_completeness</td>\n",
       "      <td>40</td>\n",
       "    </tr>\n",
       "  </tbody>\n",
       "</table>\n",
       "</div>"
      ]
     },
     "execution_count": 14,
     "metadata": {},
     "output_type": "execute_result"
    }
   ],
   "execution_count": 14
  },
  {
   "cell_type": "markdown",
   "source": [
    "### Grouped by Format"
   ],
   "metadata": {
    "collapsed": false
   },
   "id": "be4100c90f9bbd0"
  },
  {
   "cell_type": "code",
   "source": [
    "df_grouped_by_format_error = error_df.groupby([\"format\", \"error\"]).agg({\"error_message\": \"count\"}).reset_index()\n",
    "df_grouped_by_format_error"
   ],
   "metadata": {
    "collapsed": false,
    "ExecuteTime": {
     "end_time": "2024-06-09T10:31:47.851859Z",
     "start_time": "2024-06-09T10:31:47.846929Z"
    }
   },
   "id": "57deaa9e56dc9aec",
   "outputs": [
    {
     "data": {
      "text/plain": [
       "  format             error  error_message\n",
       "0   json    empty_response           1762\n",
       "1   json  key_completeness             28\n",
       "2    xml    empty_response           1056\n",
       "3    xml  incorrect_syntax            683\n",
       "4    xml  key_completeness             43\n",
       "5   yaml    empty_response           1176\n",
       "6   yaml  incorrect_syntax            617\n",
       "7   yaml  key_completeness             58"
      ],
      "text/html": [
       "<div>\n",
       "<style scoped>\n",
       "    .dataframe tbody tr th:only-of-type {\n",
       "        vertical-align: middle;\n",
       "    }\n",
       "\n",
       "    .dataframe tbody tr th {\n",
       "        vertical-align: top;\n",
       "    }\n",
       "\n",
       "    .dataframe thead th {\n",
       "        text-align: right;\n",
       "    }\n",
       "</style>\n",
       "<table border=\"1\" class=\"dataframe\">\n",
       "  <thead>\n",
       "    <tr style=\"text-align: right;\">\n",
       "      <th></th>\n",
       "      <th>format</th>\n",
       "      <th>error</th>\n",
       "      <th>error_message</th>\n",
       "    </tr>\n",
       "  </thead>\n",
       "  <tbody>\n",
       "    <tr>\n",
       "      <th>0</th>\n",
       "      <td>json</td>\n",
       "      <td>empty_response</td>\n",
       "      <td>1762</td>\n",
       "    </tr>\n",
       "    <tr>\n",
       "      <th>1</th>\n",
       "      <td>json</td>\n",
       "      <td>key_completeness</td>\n",
       "      <td>28</td>\n",
       "    </tr>\n",
       "    <tr>\n",
       "      <th>2</th>\n",
       "      <td>xml</td>\n",
       "      <td>empty_response</td>\n",
       "      <td>1056</td>\n",
       "    </tr>\n",
       "    <tr>\n",
       "      <th>3</th>\n",
       "      <td>xml</td>\n",
       "      <td>incorrect_syntax</td>\n",
       "      <td>683</td>\n",
       "    </tr>\n",
       "    <tr>\n",
       "      <th>4</th>\n",
       "      <td>xml</td>\n",
       "      <td>key_completeness</td>\n",
       "      <td>43</td>\n",
       "    </tr>\n",
       "    <tr>\n",
       "      <th>5</th>\n",
       "      <td>yaml</td>\n",
       "      <td>empty_response</td>\n",
       "      <td>1176</td>\n",
       "    </tr>\n",
       "    <tr>\n",
       "      <th>6</th>\n",
       "      <td>yaml</td>\n",
       "      <td>incorrect_syntax</td>\n",
       "      <td>617</td>\n",
       "    </tr>\n",
       "    <tr>\n",
       "      <th>7</th>\n",
       "      <td>yaml</td>\n",
       "      <td>key_completeness</td>\n",
       "      <td>58</td>\n",
       "    </tr>\n",
       "  </tbody>\n",
       "</table>\n",
       "</div>"
      ]
     },
     "execution_count": 11,
     "metadata": {},
     "output_type": "execute_result"
    }
   ],
   "execution_count": 11
  },
  {
   "metadata": {
    "ExecuteTime": {
     "end_time": "2024-06-10T11:43:56.589874Z",
     "start_time": "2024-06-10T11:43:56.583200Z"
    }
   },
   "cell_type": "code",
   "source": [
    "# Excluding PaLM 2\n",
    "df_grouped_by_format_error_excl_palm_2 = error_df[error_df['model'] != 'palm'].groupby([\"format\", \"error\"]).agg({\"error_message\": \"count\"}).reset_index()\n",
    "df_grouped_by_format_error_excl_palm_2"
   ],
   "id": "c1f77b9c95e0d7a2",
   "outputs": [
    {
     "data": {
      "text/plain": [
       "  format             error  error_message\n",
       "0   json    empty_response           1329\n",
       "1   json  key_completeness             28\n",
       "2    xml    empty_response            655\n",
       "3    xml  incorrect_syntax            680\n",
       "4    xml  key_completeness             43\n",
       "5   yaml    empty_response            676\n",
       "6   yaml  incorrect_syntax            617\n",
       "7   yaml  key_completeness             58"
      ],
      "text/html": [
       "<div>\n",
       "<style scoped>\n",
       "    .dataframe tbody tr th:only-of-type {\n",
       "        vertical-align: middle;\n",
       "    }\n",
       "\n",
       "    .dataframe tbody tr th {\n",
       "        vertical-align: top;\n",
       "    }\n",
       "\n",
       "    .dataframe thead th {\n",
       "        text-align: right;\n",
       "    }\n",
       "</style>\n",
       "<table border=\"1\" class=\"dataframe\">\n",
       "  <thead>\n",
       "    <tr style=\"text-align: right;\">\n",
       "      <th></th>\n",
       "      <th>format</th>\n",
       "      <th>error</th>\n",
       "      <th>error_message</th>\n",
       "    </tr>\n",
       "  </thead>\n",
       "  <tbody>\n",
       "    <tr>\n",
       "      <th>0</th>\n",
       "      <td>json</td>\n",
       "      <td>empty_response</td>\n",
       "      <td>1329</td>\n",
       "    </tr>\n",
       "    <tr>\n",
       "      <th>1</th>\n",
       "      <td>json</td>\n",
       "      <td>key_completeness</td>\n",
       "      <td>28</td>\n",
       "    </tr>\n",
       "    <tr>\n",
       "      <th>2</th>\n",
       "      <td>xml</td>\n",
       "      <td>empty_response</td>\n",
       "      <td>655</td>\n",
       "    </tr>\n",
       "    <tr>\n",
       "      <th>3</th>\n",
       "      <td>xml</td>\n",
       "      <td>incorrect_syntax</td>\n",
       "      <td>680</td>\n",
       "    </tr>\n",
       "    <tr>\n",
       "      <th>4</th>\n",
       "      <td>xml</td>\n",
       "      <td>key_completeness</td>\n",
       "      <td>43</td>\n",
       "    </tr>\n",
       "    <tr>\n",
       "      <th>5</th>\n",
       "      <td>yaml</td>\n",
       "      <td>empty_response</td>\n",
       "      <td>676</td>\n",
       "    </tr>\n",
       "    <tr>\n",
       "      <th>6</th>\n",
       "      <td>yaml</td>\n",
       "      <td>incorrect_syntax</td>\n",
       "      <td>617</td>\n",
       "    </tr>\n",
       "    <tr>\n",
       "      <th>7</th>\n",
       "      <td>yaml</td>\n",
       "      <td>key_completeness</td>\n",
       "      <td>58</td>\n",
       "    </tr>\n",
       "  </tbody>\n",
       "</table>\n",
       "</div>"
      ]
     },
     "execution_count": 13,
     "metadata": {},
     "output_type": "execute_result"
    }
   ],
   "execution_count": 13
  }
 ],
 "metadata": {
  "kernelspec": {
   "display_name": "Python 3",
   "language": "python",
   "name": "python3"
  },
  "language_info": {
   "codemirror_mode": {
    "name": "ipython",
    "version": 2
   },
   "file_extension": ".py",
   "mimetype": "text/x-python",
   "name": "python",
   "nbconvert_exporter": "python",
   "pygments_lexer": "ipython2",
   "version": "2.7.6"
  }
 },
 "nbformat": 4,
 "nbformat_minor": 5
}
