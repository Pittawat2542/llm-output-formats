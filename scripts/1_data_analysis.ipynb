{
 "cells": [
  {
   "cell_type": "code",
   "execution_count": 1,
   "id": "initial_id",
   "metadata": {
    "collapsed": true,
    "ExecuteTime": {
     "end_time": "2024-02-21T07:43:10.607308Z",
     "start_time": "2024-02-21T07:43:10.605748Z"
    }
   },
   "outputs": [],
   "source": [
    "import os\n",
    "import json\n",
    "from pathlib import Path\n",
    "import pandas as pd"
   ]
  },
  {
   "cell_type": "markdown",
   "source": [
    "# Read Experiment Result Files"
   ],
   "metadata": {
    "collapsed": false
   },
   "id": "8bb120e8cb9fb467"
  },
  {
   "cell_type": "code",
   "execution_count": 2,
   "outputs": [],
   "source": [
    "experiment_results_path = Path(os.getcwd()).parent / \"experiment_results\"\n",
    "summarized_results_path = experiment_results_path / \"parsed_outputs\" / \"summarized_results.json\""
   ],
   "metadata": {
    "collapsed": false,
    "ExecuteTime": {
     "end_time": "2024-02-21T07:43:10.609546Z",
     "start_time": "2024-02-21T07:43:10.607828Z"
    }
   },
   "id": "bee43610018e1618"
  },
  {
   "cell_type": "code",
   "execution_count": 3,
   "outputs": [],
   "source": [
    "with open(summarized_results_path, \"r\") as f:\n",
    "    summarized_results = json.load(f).get(\"results\", None)"
   ],
   "metadata": {
    "collapsed": false,
    "ExecuteTime": {
     "end_time": "2024-02-21T07:43:10.628793Z",
     "start_time": "2024-02-21T07:43:10.610768Z"
    }
   },
   "id": "34ad426c3a2687c6"
  },
  {
   "cell_type": "markdown",
   "source": [
    "## Group by Model, Task, and Output Format"
   ],
   "metadata": {
    "collapsed": false
   },
   "id": "3493eeb90d62a57d"
  },
  {
   "cell_type": "code",
   "execution_count": 4,
   "outputs": [],
   "source": [
    "summarized_result_grouped_by_model = {}\n",
    "for result in summarized_results:\n",
    "    model = result.get(\"model\", None)\n",
    "    if model not in summarized_result_grouped_by_model:\n",
    "        summarized_result_grouped_by_model[model] = []\n",
    "    summarized_result_grouped_by_model[model].append(result)"
   ],
   "metadata": {
    "collapsed": false,
    "ExecuteTime": {
     "end_time": "2024-02-21T07:43:10.632594Z",
     "start_time": "2024-02-21T07:43:10.629436Z"
    }
   },
   "id": "bf80e9e0d04ef5fb"
  },
  {
   "cell_type": "code",
   "execution_count": 5,
   "outputs": [],
   "source": [
    "llms = list(summarized_result_grouped_by_model.keys())\n",
    "\n",
    "for model in llms:\n",
    "    summarized_result_grouped_by_task = {}\n",
    "    for result in summarized_result_grouped_by_model[model]:\n",
    "        task = result.get(\"task\", None)\n",
    "        if task not in summarized_result_grouped_by_task:\n",
    "            summarized_result_grouped_by_task[task] = []\n",
    "        summarized_result_grouped_by_task[task].append(result)\n",
    "    summarized_result_grouped_by_model[model] = summarized_result_grouped_by_task\n",
    "    \n",
    "for model in llms:\n",
    "    for task in summarized_result_grouped_by_model[model]:\n",
    "        summarized_result_grouped_by_output_format = {}\n",
    "        for result in summarized_result_grouped_by_model[model][task]:\n",
    "            output_format = result.get(\"output_format\", None)\n",
    "            if output_format not in summarized_result_grouped_by_output_format:\n",
    "                summarized_result_grouped_by_output_format[output_format] = []\n",
    "            summarized_result_grouped_by_output_format[output_format].append(result)\n",
    "        summarized_result_grouped_by_model[model][task] = summarized_result_grouped_by_output_format"
   ],
   "metadata": {
    "collapsed": false,
    "ExecuteTime": {
     "end_time": "2024-02-21T07:43:10.727242Z",
     "start_time": "2024-02-21T07:43:10.722108Z"
    }
   },
   "id": "397bb5da1cca8833"
  },
  {
   "cell_type": "markdown",
   "source": [
    "# Data Analysis"
   ],
   "metadata": {
    "collapsed": false
   },
   "id": "4b9f8c72a71267e1"
  },
  {
   "cell_type": "markdown",
   "source": [
    "## Error Rate"
   ],
   "metadata": {
    "collapsed": false
   },
   "id": "55da5bc52c226f2b"
  },
  {
   "cell_type": "code",
   "execution_count": 6,
   "outputs": [],
   "source": [
    "llms_error_rate = {}\n",
    "for model in llms:\n",
    "    llms_error_rate[model] = {}\n",
    "    for task in summarized_result_grouped_by_model[model]:\n",
    "        llms_error_rate[model][task] = {}\n",
    "        for output_format in summarized_result_grouped_by_model[model][task]:\n",
    "            llms_error_rate[model][task][output_format] = 0\n",
    "            for result in summarized_result_grouped_by_model[model][task][output_format]:\n",
    "                if result.get(\"error\", None) is not None:\n",
    "                    llms_error_rate[model][task][output_format] += 1"
   ],
   "metadata": {
    "collapsed": false,
    "ExecuteTime": {
     "end_time": "2024-02-21T07:43:11.188636Z",
     "start_time": "2024-02-21T07:43:11.184636Z"
    }
   },
   "id": "b4d65598414b2370"
  },
  {
   "cell_type": "code",
   "execution_count": 7,
   "outputs": [
    {
     "data": {
      "text/plain": "{'mpt': {'character': {'xml': 76, 'json': 45, 'yaml': 65},\n  'enemy': {'xml': 76, 'json': 41, 'yaml': 51},\n  'dialogue': {'xml': 86, 'json': 84, 'yaml': 86},\n  'quest': {'xml': 42, 'json': 32, 'yaml': 37},\n  'story': {'xml': 49, 'json': 51, 'yaml': 67}},\n 'llama-2': {'character': {'xml': 86, 'json': 89, 'yaml': 81},\n  'enemy': {'xml': 85, 'json': 94, 'yaml': 91},\n  'dialogue': {'xml': 85, 'json': 94, 'yaml': 83},\n  'quest': {'xml': 89, 'json': 97, 'yaml': 88},\n  'story': {'xml': 94, 'json': 97, 'yaml': 94}},\n 'gemini-pro': {'character': {'xml': 0, 'json': 0, 'yaml': 2},\n  'enemy': {'xml': 2, 'json': 1, 'yaml': 1},\n  'dialogue': {'xml': 1, 'json': 0, 'yaml': 7},\n  'quest': {'xml': 0, 'json': 1, 'yaml': 15},\n  'story': {'xml': 5, 'json': 4, 'yaml': 13}},\n 'gpt-4': {'character': {'xml': 1, 'json': 0, 'yaml': 1},\n  'enemy': {'xml': 12, 'json': 11, 'yaml': 12},\n  'dialogue': {'xml': 0, 'json': 0, 'yaml': 11},\n  'quest': {'xml': 1, 'json': 0, 'yaml': 8},\n  'story': {'xml': 4, 'json': 3, 'yaml': 34}},\n 'falcon': {'character': {'xml': 88, 'json': 87, 'yaml': 81},\n  'enemy': {'xml': 91, 'json': 92, 'yaml': 91},\n  'dialogue': {'xml': 73, 'json': 90, 'yaml': 73},\n  'quest': {'xml': 87, 'json': 95, 'yaml': 88},\n  'story': {'xml': 84, 'json': 92, 'yaml': 85}},\n 'gpt-3.5-turbo': {'character': {'xml': 10, 'json': 3, 'yaml': 8},\n  'enemy': {'xml': 0, 'json': 1, 'yaml': 0},\n  'dialogue': {'xml': 47, 'json': 6, 'yaml': 3},\n  'quest': {'xml': 13, 'json': 54, 'yaml': 7},\n  'story': {'xml': 48, 'json': 65, 'yaml': 10}},\n 'palm': {'character': {'xml': 100, 'json': 100, 'yaml': 100},\n  'enemy': {'xml': 100, 'json': 100, 'yaml': 100},\n  'dialogue': {'xml': 4, 'json': 33, 'yaml': 100},\n  'quest': {'xml': 100, 'json': 100, 'yaml': 100},\n  'story': {'xml': 100, 'json': 100, 'yaml': 100}}}"
     },
     "execution_count": 7,
     "metadata": {},
     "output_type": "execute_result"
    }
   ],
   "source": [
    "llms_error_rate"
   ],
   "metadata": {
    "collapsed": false,
    "ExecuteTime": {
     "end_time": "2024-02-21T07:43:11.346333Z",
     "start_time": "2024-02-21T07:43:11.341587Z"
    }
   },
   "id": "afe9fd0f2bad49cf"
  },
  {
   "cell_type": "code",
   "outputs": [],
   "source": [
    "# save to csv with pandas\n",
    "data_for_df = {\n",
    "    \"model\": [],\n",
    "    \"task\": [],\n",
    "    \"output_format\": [],\n",
    "    \"error_rate\": []\n",
    "}\n",
    "\n",
    "for model in llms_error_rate:\n",
    "    for task in llms_error_rate[model]:\n",
    "        for output_format in llms_error_rate[model][task]:\n",
    "            data_for_df[\"model\"].append(model)\n",
    "            data_for_df[\"task\"].append(task)\n",
    "            data_for_df[\"output_format\"].append(output_format)\n",
    "            data_for_df[\"error_rate\"].append(llms_error_rate[model][task][output_format])\n",
    "            \n",
    "df = pd.DataFrame(data_for_df)\n",
    "df.to_csv(experiment_results_path / \"main_results.csv\", index=False)"
   ],
   "metadata": {
    "collapsed": false,
    "ExecuteTime": {
     "end_time": "2024-02-21T07:43:11.507421Z",
     "start_time": "2024-02-21T07:43:11.503094Z"
    }
   },
   "id": "209e40b0cf2264c6",
   "execution_count": 8
  },
  {
   "cell_type": "code",
   "execution_count": 9,
   "outputs": [
    {
     "data": {
      "text/plain": "{'mpt': 888,\n 'llama-2': 1347,\n 'gemini-pro': 52,\n 'gpt-4': 98,\n 'falcon': 1297,\n 'gpt-3.5-turbo': 275,\n 'palm': 1337}"
     },
     "execution_count": 9,
     "metadata": {},
     "output_type": "execute_result"
    }
   ],
   "source": [
    "llms_error_rate_by_model = {}\n",
    "for model in llms_error_rate:\n",
    "    llms_error_rate_by_model[model] = 0\n",
    "    for task in llms_error_rate[model]:\n",
    "        for output_format in llms_error_rate[model][task]:\n",
    "            llms_error_rate_by_model[model] += llms_error_rate[model][task][output_format]\n",
    "llms_error_rate_by_model"
   ],
   "metadata": {
    "collapsed": false,
    "ExecuteTime": {
     "end_time": "2024-02-21T07:43:11.683956Z",
     "start_time": "2024-02-21T07:43:11.681138Z"
    }
   },
   "id": "57013b986e0b34de"
  },
  {
   "cell_type": "code",
   "execution_count": 10,
   "outputs": [
    {
     "data": {
      "text/plain": "{'character': 1023,\n 'enemy': 1052,\n 'dialogue': 966,\n 'quest': 1054,\n 'story': 1199}"
     },
     "execution_count": 10,
     "metadata": {},
     "output_type": "execute_result"
    }
   ],
   "source": [
    "llms_error_rate_by_task = {}\n",
    "for model in llms_error_rate:\n",
    "    for task in llms_error_rate[model]:\n",
    "        if task not in llms_error_rate_by_task:\n",
    "            llms_error_rate_by_task[task] = 0\n",
    "        for output_format in llms_error_rate[model][task]:\n",
    "            llms_error_rate_by_task[task] += llms_error_rate[model][task][output_format]\n",
    "llms_error_rate_by_task"
   ],
   "metadata": {
    "collapsed": false,
    "ExecuteTime": {
     "end_time": "2024-02-21T07:43:11.837347Z",
     "start_time": "2024-02-21T07:43:11.834193Z"
    }
   },
   "id": "7db5a9b7153b5dd9"
  },
  {
   "cell_type": "code",
   "execution_count": 11,
   "outputs": [
    {
     "data": {
      "text/plain": "{'xml': 1739, 'json': 1762, 'yaml': 1793}"
     },
     "execution_count": 11,
     "metadata": {},
     "output_type": "execute_result"
    }
   ],
   "source": [
    "llms_error_rate_by_output_format = {}\n",
    "for model in llms_error_rate:\n",
    "    for task in llms_error_rate[model]:\n",
    "        for output_format in llms_error_rate[model][task]:\n",
    "            if output_format not in llms_error_rate_by_output_format:\n",
    "                llms_error_rate_by_output_format[output_format] = 0\n",
    "            llms_error_rate_by_output_format[output_format] += llms_error_rate[model][task][output_format]\n",
    "llms_error_rate_by_output_format"
   ],
   "metadata": {
    "collapsed": false,
    "ExecuteTime": {
     "end_time": "2024-02-21T07:43:12.018653Z",
     "start_time": "2024-02-21T07:43:12.015368Z"
    }
   },
   "id": "9abae53034880cc"
  },
  {
   "cell_type": "code",
   "execution_count": 12,
   "outputs": [
    {
     "data": {
      "text/plain": "{('mpt', 'character'): 186,\n ('mpt', 'enemy'): 168,\n ('mpt', 'dialogue'): 256,\n ('mpt', 'quest'): 111,\n ('mpt', 'story'): 167,\n ('llama-2', 'character'): 256,\n ('llama-2', 'enemy'): 270,\n ('llama-2', 'dialogue'): 262,\n ('llama-2', 'quest'): 274,\n ('llama-2', 'story'): 285,\n ('gemini-pro', 'character'): 2,\n ('gemini-pro', 'enemy'): 4,\n ('gemini-pro', 'dialogue'): 8,\n ('gemini-pro', 'quest'): 16,\n ('gemini-pro', 'story'): 22,\n ('gpt-4', 'character'): 2,\n ('gpt-4', 'enemy'): 35,\n ('gpt-4', 'dialogue'): 11,\n ('gpt-4', 'quest'): 9,\n ('gpt-4', 'story'): 41,\n ('falcon', 'character'): 256,\n ('falcon', 'enemy'): 274,\n ('falcon', 'dialogue'): 236,\n ('falcon', 'quest'): 270,\n ('falcon', 'story'): 261,\n ('gpt-3.5-turbo', 'character'): 21,\n ('gpt-3.5-turbo', 'enemy'): 1,\n ('gpt-3.5-turbo', 'dialogue'): 56,\n ('gpt-3.5-turbo', 'quest'): 74,\n ('gpt-3.5-turbo', 'story'): 123,\n ('palm', 'character'): 300,\n ('palm', 'enemy'): 300,\n ('palm', 'dialogue'): 137,\n ('palm', 'quest'): 300,\n ('palm', 'story'): 300}"
     },
     "execution_count": 12,
     "metadata": {},
     "output_type": "execute_result"
    }
   ],
   "source": [
    "llms_error_rate_by_model_task = {}\n",
    "for model in llms_error_rate:\n",
    "    for task in llms_error_rate[model]:\n",
    "        if (model, task) not in llms_error_rate_by_model_task:\n",
    "            llms_error_rate_by_model_task[(model, task)] = 0\n",
    "        for output_format in llms_error_rate[model][task]:\n",
    "            llms_error_rate_by_model_task[(model, task)] += llms_error_rate[model][task][output_format]\n",
    "llms_error_rate_by_model_task"
   ],
   "metadata": {
    "collapsed": false,
    "ExecuteTime": {
     "end_time": "2024-02-21T07:43:12.167140Z",
     "start_time": "2024-02-21T07:43:12.163989Z"
    }
   },
   "id": "e87836a2a4f4e3a2"
  },
  {
   "cell_type": "code",
   "execution_count": 13,
   "outputs": [
    {
     "data": {
      "text/plain": "{('mpt', 'xml'): 329,\n ('mpt', 'json'): 253,\n ('mpt', 'yaml'): 306,\n ('llama-2', 'xml'): 439,\n ('llama-2', 'json'): 471,\n ('llama-2', 'yaml'): 437,\n ('gemini-pro', 'xml'): 8,\n ('gemini-pro', 'json'): 6,\n ('gemini-pro', 'yaml'): 38,\n ('gpt-4', 'xml'): 18,\n ('gpt-4', 'json'): 14,\n ('gpt-4', 'yaml'): 66,\n ('falcon', 'xml'): 423,\n ('falcon', 'json'): 456,\n ('falcon', 'yaml'): 418,\n ('gpt-3.5-turbo', 'xml'): 118,\n ('gpt-3.5-turbo', 'json'): 129,\n ('gpt-3.5-turbo', 'yaml'): 28,\n ('palm', 'xml'): 404,\n ('palm', 'json'): 433,\n ('palm', 'yaml'): 500}"
     },
     "execution_count": 13,
     "metadata": {},
     "output_type": "execute_result"
    }
   ],
   "source": [
    "llms_error_rate_by_model_format = {}\n",
    "for model in llms_error_rate:\n",
    "    for task in llms_error_rate[model]:\n",
    "        for output_format in llms_error_rate[model][task]:\n",
    "            if (model, output_format) not in llms_error_rate_by_model_format:\n",
    "                llms_error_rate_by_model_format[(model, output_format)] = 0\n",
    "            llms_error_rate_by_model_format[(model, output_format)] += llms_error_rate[model][task][output_format]\n",
    "llms_error_rate_by_model_format       "
   ],
   "metadata": {
    "collapsed": false,
    "ExecuteTime": {
     "end_time": "2024-02-21T07:43:12.445502Z",
     "start_time": "2024-02-21T07:43:12.441806Z"
    }
   },
   "id": "7dbf9768cf9afb35"
  }
 ],
 "metadata": {
  "kernelspec": {
   "display_name": "Python 3",
   "language": "python",
   "name": "python3"
  },
  "language_info": {
   "codemirror_mode": {
    "name": "ipython",
    "version": 2
   },
   "file_extension": ".py",
   "mimetype": "text/x-python",
   "name": "python",
   "nbconvert_exporter": "python",
   "pygments_lexer": "ipython2",
   "version": "2.7.6"
  }
 },
 "nbformat": 4,
 "nbformat_minor": 5
}
