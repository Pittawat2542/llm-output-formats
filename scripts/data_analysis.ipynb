{
 "cells": [
  {
   "cell_type": "code",
   "execution_count": 8,
   "id": "initial_id",
   "metadata": {
    "collapsed": true,
    "ExecuteTime": {
     "end_time": "2023-10-15T05:15:50.594659Z",
     "start_time": "2023-10-15T05:15:50.592985Z"
    }
   },
   "outputs": [],
   "source": [
    "import os\n",
    "import json\n",
    "from pathlib import Path"
   ]
  },
  {
   "cell_type": "markdown",
   "source": [
    "# Read Experiment Result Files"
   ],
   "metadata": {
    "collapsed": false
   },
   "id": "8bb120e8cb9fb467"
  },
  {
   "cell_type": "code",
   "execution_count": 45,
   "outputs": [],
   "source": [
    "experiment_results_path = Path(os.getcwd()).parent / \"experiment_results\"\n",
    "commercial_llms_path = experiment_results_path / \"commercial-llms\"\n",
    "open_source_llms_path = experiment_results_path / \"open-source-llms\""
   ],
   "metadata": {
    "collapsed": false,
    "ExecuteTime": {
     "end_time": "2023-10-15T05:25:38.770988Z",
     "start_time": "2023-10-15T05:25:38.766890Z"
    }
   },
   "id": "bee43610018e1618"
  },
  {
   "cell_type": "code",
   "execution_count": 46,
   "outputs": [],
   "source": [
    "commercial_llms_summarized_result_file_path = commercial_llms_path / \"parsed_outputs\" / \"summarized_results.json\"\n",
    "open_source_llms_summarized_result_file_path = open_source_llms_path / \"parsed_outputs\" / \"summarized_results.json\""
   ],
   "metadata": {
    "collapsed": false,
    "ExecuteTime": {
     "end_time": "2023-10-15T05:25:38.946951Z",
     "start_time": "2023-10-15T05:25:38.944517Z"
    }
   },
   "id": "f198e567f77f2c6"
  },
  {
   "cell_type": "code",
   "execution_count": 47,
   "outputs": [],
   "source": [
    "with open(commercial_llms_summarized_result_file_path, \"r\") as f:\n",
    "    commercial_llms_summarized_result = json.load(f).get(\"results\", None)"
   ],
   "metadata": {
    "collapsed": false,
    "ExecuteTime": {
     "end_time": "2023-10-15T05:25:39.144865Z",
     "start_time": "2023-10-15T05:25:39.110139Z"
    }
   },
   "id": "e23443f136ef267d"
  },
  {
   "cell_type": "code",
   "execution_count": 48,
   "outputs": [],
   "source": [
    "with open(open_source_llms_summarized_result_file_path, \"r\") as f:\n",
    "    open_source_llms_summarized_result = json.load(f).get(\"results\", None)"
   ],
   "metadata": {
    "collapsed": false,
    "ExecuteTime": {
     "end_time": "2023-10-15T05:25:39.295011Z",
     "start_time": "2023-10-15T05:25:39.288944Z"
    }
   },
   "id": "34ad426c3a2687c6"
  },
  {
   "cell_type": "markdown",
   "source": [
    "## Group by Model, Task, and Output Format"
   ],
   "metadata": {
    "collapsed": false
   },
   "id": "3493eeb90d62a57d"
  },
  {
   "cell_type": "code",
   "execution_count": 49,
   "outputs": [],
   "source": [
    "commercial_llms_summarized_result_grouped_by_model = {}\n",
    "for result in commercial_llms_summarized_result:\n",
    "    model = result.get(\"model\", None)\n",
    "    if model not in commercial_llms_summarized_result_grouped_by_model:\n",
    "        commercial_llms_summarized_result_grouped_by_model[model] = []\n",
    "    commercial_llms_summarized_result_grouped_by_model[model].append(result)"
   ],
   "metadata": {
    "collapsed": false,
    "ExecuteTime": {
     "end_time": "2023-10-15T05:25:39.618645Z",
     "start_time": "2023-10-15T05:25:39.617356Z"
    }
   },
   "id": "bf80e9e0d04ef5fb"
  },
  {
   "cell_type": "code",
   "execution_count": 50,
   "outputs": [],
   "source": [
    "open_source_llms_summarized_result_grouped_by_model = {}\n",
    "for result in open_source_llms_summarized_result:\n",
    "    model = result.get(\"model\", None)\n",
    "    if model not in open_source_llms_summarized_result_grouped_by_model:\n",
    "        open_source_llms_summarized_result_grouped_by_model[model] = []\n",
    "    open_source_llms_summarized_result_grouped_by_model[model].append(result)"
   ],
   "metadata": {
    "collapsed": false,
    "ExecuteTime": {
     "end_time": "2023-10-15T05:25:39.790068Z",
     "start_time": "2023-10-15T05:25:39.788807Z"
    }
   },
   "id": "b1542be559f228"
  },
  {
   "cell_type": "code",
   "execution_count": 51,
   "outputs": [],
   "source": [
    "commercial_llms = list(commercial_llms_summarized_result_grouped_by_model.keys())\n",
    "\n",
    "for model in commercial_llms:\n",
    "    commercial_llms_summarized_result_grouped_by_task = {}\n",
    "    for result in commercial_llms_summarized_result_grouped_by_model[model]:\n",
    "        task = result.get(\"task\", None)\n",
    "        if task not in commercial_llms_summarized_result_grouped_by_task:\n",
    "            commercial_llms_summarized_result_grouped_by_task[task] = []\n",
    "        commercial_llms_summarized_result_grouped_by_task[task].append(result)\n",
    "    commercial_llms_summarized_result_grouped_by_model[model] = commercial_llms_summarized_result_grouped_by_task\n",
    "    \n",
    "for model in commercial_llms:\n",
    "    for task in commercial_llms_summarized_result_grouped_by_model[model]:\n",
    "        commercial_llms_summarized_result_grouped_by_output_format = {}\n",
    "        for result in commercial_llms_summarized_result_grouped_by_model[model][task]:\n",
    "            output_format = result.get(\"output_format\", None)\n",
    "            if output_format not in commercial_llms_summarized_result_grouped_by_output_format:\n",
    "                commercial_llms_summarized_result_grouped_by_output_format[output_format] = []\n",
    "            commercial_llms_summarized_result_grouped_by_output_format[output_format].append(result)\n",
    "        commercial_llms_summarized_result_grouped_by_model[model][task] = commercial_llms_summarized_result_grouped_by_output_format"
   ],
   "metadata": {
    "collapsed": false,
    "ExecuteTime": {
     "end_time": "2023-10-15T05:25:39.970354Z",
     "start_time": "2023-10-15T05:25:39.968472Z"
    }
   },
   "id": "397bb5da1cca8833"
  },
  {
   "cell_type": "code",
   "execution_count": 52,
   "outputs": [],
   "source": [
    "open_source_llms = list(open_source_llms_summarized_result_grouped_by_model.keys())\n",
    "\n",
    "for model in open_source_llms:\n",
    "    open_source_llms_summarized_result_grouped_by_task = {}\n",
    "    for result in open_source_llms_summarized_result_grouped_by_model[model]:\n",
    "        task = result.get(\"task\", None)\n",
    "        if task not in open_source_llms_summarized_result_grouped_by_task:\n",
    "            open_source_llms_summarized_result_grouped_by_task[task] = []\n",
    "        open_source_llms_summarized_result_grouped_by_task[task].append(result)\n",
    "    open_source_llms_summarized_result_grouped_by_model[model] = open_source_llms_summarized_result_grouped_by_task\n",
    "    \n",
    "for model in open_source_llms:\n",
    "    for task in open_source_llms_summarized_result_grouped_by_model[model]:\n",
    "        open_source_llms_summarized_result_grouped_by_output_format = {}\n",
    "        for result in open_source_llms_summarized_result_grouped_by_model[model][task]:\n",
    "            output_format = result.get(\"output_format\", None)\n",
    "            if output_format not in open_source_llms_summarized_result_grouped_by_output_format:\n",
    "                open_source_llms_summarized_result_grouped_by_output_format[output_format] = []\n",
    "            open_source_llms_summarized_result_grouped_by_output_format[output_format].append(result)\n",
    "        open_source_llms_summarized_result_grouped_by_model[model][task] = open_source_llms_summarized_result_grouped_by_output_format"
   ],
   "metadata": {
    "collapsed": false,
    "ExecuteTime": {
     "end_time": "2023-10-15T05:25:40.134082Z",
     "start_time": "2023-10-15T05:25:40.131153Z"
    }
   },
   "id": "b9a95858f4f47ab8"
  },
  {
   "cell_type": "code",
   "execution_count": 55,
   "outputs": [],
   "source": [
    "llms = commercial_llms + open_source_llms\n",
    "llms_summarized_result = {}\n",
    "for model in llms:\n",
    "    llms_summarized_result[model] = {}\n",
    "    if model in commercial_llms:\n",
    "        llms_summarized_result[model] = commercial_llms_summarized_result_grouped_by_model[model]\n",
    "    if model in open_source_llms:\n",
    "        llms_summarized_result[model] = open_source_llms_summarized_result_grouped_by_model[model]"
   ],
   "metadata": {
    "collapsed": false,
    "ExecuteTime": {
     "end_time": "2023-10-15T05:31:02.940816Z",
     "start_time": "2023-10-15T05:31:02.939103Z"
    }
   },
   "id": "7b47551c1375ee19"
  },
  {
   "cell_type": "markdown",
   "source": [
    "# Data Analysis"
   ],
   "metadata": {
    "collapsed": false
   },
   "id": "4b9f8c72a71267e1"
  },
  {
   "cell_type": "markdown",
   "source": [
    "## Error Rate"
   ],
   "metadata": {
    "collapsed": false
   },
   "id": "55da5bc52c226f2b"
  },
  {
   "cell_type": "code",
   "execution_count": 68,
   "outputs": [],
   "source": [
    "llms_error_rate = {}\n",
    "for model in llms:\n",
    "    llms_error_rate[model] = {}\n",
    "    for task in llms_summarized_result[model]:\n",
    "        llms_error_rate[model][task] = {}\n",
    "        for output_format in llms_summarized_result[model][task]:\n",
    "            llms_error_rate[model][task][output_format] = 0\n",
    "            for result in llms_summarized_result[model][task][output_format]:\n",
    "                if result.get(\"error\", None) is not None:\n",
    "                    llms_error_rate[model][task][output_format] += 1\n",
    "                    \n",
    "# Correct PaLM as it is missing some \"yaml\" formats for all tasks\n",
    "llms_error_rate[\"palm\"][\"character\"][\"yaml\"] = 100\n",
    "llms_error_rate[\"palm\"][\"enemy\"][\"yaml\"] = 100\n",
    "llms_error_rate[\"palm\"][\"dialogue\"][\"yaml\"] = 100\n",
    "llms_error_rate[\"palm\"][\"quest\"][\"yaml\"] = 100\n",
    "llms_error_rate[\"palm\"][\"story\"][\"yaml\"] = 100"
   ],
   "metadata": {
    "collapsed": false,
    "ExecuteTime": {
     "end_time": "2023-10-15T06:35:34.618757Z",
     "start_time": "2023-10-15T06:35:34.615569Z"
    }
   },
   "id": "b4d65598414b2370"
  },
  {
   "cell_type": "code",
   "execution_count": 69,
   "outputs": [
    {
     "data": {
      "text/plain": "{'gpt-4': {'character': {'xml': 1, 'json': 0, 'yaml': 1},\n  'enemy': {'xml': 13, 'json': 11, 'yaml': 0},\n  'dialogue': {'xml': 0, 'json': 3, 'yaml': 11},\n  'quest': {'xml': 6, 'json': 3, 'yaml': 6},\n  'story': {'xml': 11, 'json': 8, 'yaml': 32}},\n 'gpt-3.5-turbo': {'character': {'xml': 0, 'json': 0, 'yaml': 0},\n  'enemy': {'xml': 0, 'json': 1, 'yaml': 1},\n  'dialogue': {'xml': 2, 'json': 0, 'yaml': 1},\n  'quest': {'xml': 3, 'json': 5, 'yaml': 0},\n  'story': {'xml': 3, 'json': 4, 'yaml': 8}},\n 'palm': {'character': {'xml': 100, 'json': 100, 'yaml': 100},\n  'enemy': {'xml': 100, 'json': 100, 'yaml': 100},\n  'dialogue': {'xml': 89, 'json': 90, 'yaml': 100},\n  'quest': {'xml': 100, 'json': 100, 'yaml': 100},\n  'story': {'xml': 100, 'json': 100, 'yaml': 100}},\n 'mpt': {'character': {'xml': 87, 'json': 57, 'yaml': 29},\n  'enemy': {'xml': 70, 'json': 43, 'yaml': 15},\n  'dialogue': {'xml': 92, 'json': 86, 'yaml': 34},\n  'quest': {'xml': 81, 'json': 49, 'yaml': 26},\n  'story': {'xml': 84, 'json': 59, 'yaml': 36}},\n 'llama-2': {'character': {'xml': 100, 'json': 100, 'yaml': 53},\n  'enemy': {'xml': 100, 'json': 100, 'yaml': 50},\n  'dialogue': {'xml': 100, 'json': 100, 'yaml': 48},\n  'quest': {'xml': 100, 'json': 100, 'yaml': 46},\n  'story': {'xml': 100, 'json': 100, 'yaml': 44}},\n 'falcon': {'character': {'xml': 94, 'json': 94, 'yaml': 61},\n  'enemy': {'xml': 94, 'json': 100, 'yaml': 52},\n  'dialogue': {'xml': 96, 'json': 96, 'yaml': 62},\n  'quest': {'xml': 89, 'json': 96, 'yaml': 50},\n  'story': {'xml': 95, 'json': 98, 'yaml': 52}}}"
     },
     "execution_count": 69,
     "metadata": {},
     "output_type": "execute_result"
    }
   ],
   "source": [
    "llms_error_rate"
   ],
   "metadata": {
    "collapsed": false,
    "ExecuteTime": {
     "end_time": "2023-10-15T06:35:38.202597Z",
     "start_time": "2023-10-15T06:35:38.200656Z"
    }
   },
   "id": "afe9fd0f2bad49cf"
  },
  {
   "cell_type": "code",
   "execution_count": 70,
   "outputs": [
    {
     "data": {
      "text/plain": "{'gpt-4': 106,\n 'gpt-3.5-turbo': 28,\n 'palm': 1479,\n 'mpt': 848,\n 'llama-2': 1241,\n 'falcon': 1229}"
     },
     "execution_count": 70,
     "metadata": {},
     "output_type": "execute_result"
    }
   ],
   "source": [
    "llms_error_rate_by_model = {}\n",
    "for model in llms_error_rate:\n",
    "    llms_error_rate_by_model[model] = 0\n",
    "    for task in llms_error_rate[model]:\n",
    "        for output_format in llms_error_rate[model][task]:\n",
    "            llms_error_rate_by_model[model] += llms_error_rate[model][task][output_format]\n",
    "llms_error_rate_by_model"
   ],
   "metadata": {
    "collapsed": false,
    "ExecuteTime": {
     "end_time": "2023-10-15T06:35:40.582424Z",
     "start_time": "2023-10-15T06:35:40.580564Z"
    }
   },
   "id": "57013b986e0b34de"
  },
  {
   "cell_type": "code",
   "execution_count": 71,
   "outputs": [
    {
     "data": {
      "text/plain": "{'character': 977, 'enemy': 950, 'dialogue': 1010, 'quest': 960, 'story': 1034}"
     },
     "execution_count": 71,
     "metadata": {},
     "output_type": "execute_result"
    }
   ],
   "source": [
    "llms_error_rate_by_task = {}\n",
    "for model in llms_error_rate:\n",
    "    for task in llms_error_rate[model]:\n",
    "        if task not in llms_error_rate_by_task:\n",
    "            llms_error_rate_by_task[task] = 0\n",
    "        for output_format in llms_error_rate[model][task]:\n",
    "            llms_error_rate_by_task[task] += llms_error_rate[model][task][output_format]\n",
    "llms_error_rate_by_task"
   ],
   "metadata": {
    "collapsed": false,
    "ExecuteTime": {
     "end_time": "2023-10-15T06:35:41.889337Z",
     "start_time": "2023-10-15T06:35:41.887873Z"
    }
   },
   "id": "7db5a9b7153b5dd9"
  },
  {
   "cell_type": "code",
   "execution_count": 72,
   "outputs": [
    {
     "data": {
      "text/plain": "{'xml': 1910, 'json': 1803, 'yaml': 1218}"
     },
     "execution_count": 72,
     "metadata": {},
     "output_type": "execute_result"
    }
   ],
   "source": [
    "llms_error_rate_by_output_format = {}\n",
    "for model in llms_error_rate:\n",
    "    for task in llms_error_rate[model]:\n",
    "        for output_format in llms_error_rate[model][task]:\n",
    "            if output_format not in llms_error_rate_by_output_format:\n",
    "                llms_error_rate_by_output_format[output_format] = 0\n",
    "            llms_error_rate_by_output_format[output_format] += llms_error_rate[model][task][output_format]\n",
    "llms_error_rate_by_output_format"
   ],
   "metadata": {
    "collapsed": false,
    "ExecuteTime": {
     "end_time": "2023-10-15T06:35:46.178020Z",
     "start_time": "2023-10-15T06:35:46.175871Z"
    }
   },
   "id": "9abae53034880cc"
  },
  {
   "cell_type": "code",
   "execution_count": 73,
   "outputs": [
    {
     "data": {
      "text/plain": "{('gpt-4', 'character'): 2,\n ('gpt-4', 'enemy'): 24,\n ('gpt-4', 'dialogue'): 14,\n ('gpt-4', 'quest'): 15,\n ('gpt-4', 'story'): 51,\n ('gpt-3.5-turbo', 'character'): 0,\n ('gpt-3.5-turbo', 'enemy'): 2,\n ('gpt-3.5-turbo', 'dialogue'): 3,\n ('gpt-3.5-turbo', 'quest'): 8,\n ('gpt-3.5-turbo', 'story'): 15,\n ('palm', 'character'): 300,\n ('palm', 'enemy'): 300,\n ('palm', 'dialogue'): 279,\n ('palm', 'quest'): 300,\n ('palm', 'story'): 300,\n ('mpt', 'character'): 173,\n ('mpt', 'enemy'): 128,\n ('mpt', 'dialogue'): 212,\n ('mpt', 'quest'): 156,\n ('mpt', 'story'): 179,\n ('llama-2', 'character'): 253,\n ('llama-2', 'enemy'): 250,\n ('llama-2', 'dialogue'): 248,\n ('llama-2', 'quest'): 246,\n ('llama-2', 'story'): 244,\n ('falcon', 'character'): 249,\n ('falcon', 'enemy'): 246,\n ('falcon', 'dialogue'): 254,\n ('falcon', 'quest'): 235,\n ('falcon', 'story'): 245}"
     },
     "execution_count": 73,
     "metadata": {},
     "output_type": "execute_result"
    }
   ],
   "source": [
    "llms_error_rate_by_model_task = {}\n",
    "for model in llms_error_rate:\n",
    "    for task in llms_error_rate[model]:\n",
    "        if (model, task) not in llms_error_rate_by_model_task:\n",
    "            llms_error_rate_by_model_task[(model, task)] = 0\n",
    "        for output_format in llms_error_rate[model][task]:\n",
    "            llms_error_rate_by_model_task[(model, task)] += llms_error_rate[model][task][output_format]\n",
    "llms_error_rate_by_model_task"
   ],
   "metadata": {
    "collapsed": false,
    "ExecuteTime": {
     "end_time": "2023-10-15T06:35:46.541358Z",
     "start_time": "2023-10-15T06:35:46.539121Z"
    }
   },
   "id": "e87836a2a4f4e3a2"
  },
  {
   "cell_type": "code",
   "execution_count": 74,
   "outputs": [
    {
     "data": {
      "text/plain": "{('gpt-4', 'xml'): 31,\n ('gpt-4', 'json'): 25,\n ('gpt-4', 'yaml'): 50,\n ('gpt-3.5-turbo', 'xml'): 8,\n ('gpt-3.5-turbo', 'json'): 10,\n ('gpt-3.5-turbo', 'yaml'): 10,\n ('palm', 'xml'): 489,\n ('palm', 'json'): 490,\n ('palm', 'yaml'): 500,\n ('mpt', 'xml'): 414,\n ('mpt', 'json'): 294,\n ('mpt', 'yaml'): 140,\n ('llama-2', 'xml'): 500,\n ('llama-2', 'json'): 500,\n ('llama-2', 'yaml'): 241,\n ('falcon', 'xml'): 468,\n ('falcon', 'json'): 484,\n ('falcon', 'yaml'): 277}"
     },
     "execution_count": 74,
     "metadata": {},
     "output_type": "execute_result"
    }
   ],
   "source": [
    "llms_error_rate_by_model_format = {}\n",
    "for model in llms_error_rate:\n",
    "    for task in llms_error_rate[model]:\n",
    "        for output_format in llms_error_rate[model][task]:\n",
    "            if (model, output_format) not in llms_error_rate_by_model_format:\n",
    "                llms_error_rate_by_model_format[(model, output_format)] = 0\n",
    "            llms_error_rate_by_model_format[(model, output_format)] += llms_error_rate[model][task][output_format]\n",
    "llms_error_rate_by_model_format       "
   ],
   "metadata": {
    "collapsed": false,
    "ExecuteTime": {
     "end_time": "2023-10-15T06:35:47.027412Z",
     "start_time": "2023-10-15T06:35:47.018820Z"
    }
   },
   "id": "7dbf9768cf9afb35"
  },
  {
   "cell_type": "code",
   "execution_count": null,
   "outputs": [],
   "source": [],
   "metadata": {
    "collapsed": false
   },
   "id": "9921e724de28fa1a"
  }
 ],
 "metadata": {
  "kernelspec": {
   "display_name": "Python 3",
   "language": "python",
   "name": "python3"
  },
  "language_info": {
   "codemirror_mode": {
    "name": "ipython",
    "version": 2
   },
   "file_extension": ".py",
   "mimetype": "text/x-python",
   "name": "python",
   "nbconvert_exporter": "python",
   "pygments_lexer": "ipython2",
   "version": "2.7.6"
  }
 },
 "nbformat": 4,
 "nbformat_minor": 5
}
