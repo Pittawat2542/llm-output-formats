{
 "cells": [
  {
   "cell_type": "code",
   "source": [
    "from pathlib import Path\n",
    "import pandas as pd\n",
    "import re\n",
    "import seaborn as sns\n",
    "import matplotlib.pyplot as plt\n",
    "from scripts.analysis_utils import error_analysis"
   ],
   "metadata": {
    "collapsed": false,
    "ExecuteTime": {
     "end_time": "2024-06-10T02:22:07.948816Z",
     "start_time": "2024-06-10T02:22:07.945887Z"
    }
   },
   "id": "41d579d072b66353",
   "outputs": [],
   "execution_count": 33
  },
  {
   "cell_type": "code",
   "source": [
    "root_path = Path(\"../experiment_results\")\n",
    "llms_path_outputs = root_path / \"outputs\""
   ],
   "metadata": {
    "collapsed": false,
    "ExecuteTime": {
     "end_time": "2024-06-10T02:22:08.129618Z",
     "start_time": "2024-06-10T02:22:08.127940Z"
    }
   },
   "id": "c56e3e2d62aa1c3f",
   "outputs": [],
   "execution_count": 34
  },
  {
   "cell_type": "code",
   "id": "initial_id",
   "metadata": {
    "collapsed": true,
    "ExecuteTime": {
     "end_time": "2024-06-10T02:22:08.307144Z",
     "start_time": "2024-06-10T02:22:08.305459Z"
    }
   },
   "source": [
    "llms_path_outputs_fixed = root_path / \"fixed_outputs\""
   ],
   "outputs": [],
   "execution_count": 35
  },
  {
   "cell_type": "code",
   "source": [
    "fixers = [fixer for fixer in llms_path_outputs_fixed.iterdir() if fixer.is_dir()]"
   ],
   "metadata": {
    "collapsed": false,
    "ExecuteTime": {
     "end_time": "2024-06-10T02:22:08.495882Z",
     "start_time": "2024-06-10T02:22:08.493030Z"
    }
   },
   "id": "ece6ac0311295460",
   "outputs": [],
   "execution_count": 36
  },
  {
   "cell_type": "code",
   "source": [
    "sorted_models = {}\n",
    "for fixer in fixers:\n",
    "    pattern = r\"(.*)-(\\d+|\\d+\\.\\d+)B\"\n",
    "    model = fixer.name\n",
    "    match = re.search(pattern, model)\n",
    "    if match:\n",
    "        model = match[1]\n",
    "        size = match[2]\n",
    "        if model not in sorted_models:\n",
    "            sorted_models[model] = []\n",
    "        sorted_models[model].append(size)\n",
    "for model, sizes in sorted_models.items():\n",
    "    sorted_models[model] = sorted(sizes)\n",
    "\n",
    "sorted_models"
   ],
   "metadata": {
    "collapsed": false,
    "ExecuteTime": {
     "end_time": "2024-06-10T02:22:08.669080Z",
     "start_time": "2024-06-10T02:22:08.665927Z"
    }
   },
   "id": "9b537c345f08ca15",
   "outputs": [
    {
     "data": {
      "text/plain": [
       "{'Qwen1.5-Chat': ['0.62', '1.84', '14.2', '3.95', '7.72', '72.3'],\n",
       " 'Llama-2-Chat': ['13', '6.74', '69'],\n",
       " 'Phi-2': ['2.78'],\n",
       " 'Mistral-Instruct-v0.2': ['7.24']}"
      ]
     },
     "execution_count": 37,
     "metadata": {},
     "output_type": "execute_result"
    }
   ],
   "execution_count": 37
  },
  {
   "cell_type": "code",
   "source": [
    "sorted_models_counts = {}\n",
    "main_df = pd.read_csv(llms_path_outputs / \"error_categories.csv\")\n",
    "\n",
    "for model, sizes in sorted_models.items():\n",
    "    for size in sizes:\n",
    "        for fixer in fixers:\n",
    "            if model in fixer.name and size in fixer.name:\n",
    "                error_analysis(fixer)\n",
    "                df = pd.read_csv(fixer / \"error_categories.csv\")\n",
    "                join_df = main_df.merge(df, on=['task', 'model', 'format', 'file'])\n",
    "                \n",
    "                if model not in sorted_models_counts:\n",
    "                    sorted_models_counts[model] = {}\n",
    "\n",
    "                sorted_models_counts[model][str(float(size))] = len(join_df)\n",
    "\n",
    "sorted_models_counts"
   ],
   "metadata": {
    "collapsed": false,
    "ExecuteTime": {
     "end_time": "2024-06-10T02:22:11.444151Z",
     "start_time": "2024-06-10T02:22:08.847553Z"
    }
   },
   "id": "62742c54ccfdfd57",
   "outputs": [
    {
     "data": {
      "text/plain": [
       "{'Qwen1.5-Chat': {'0.62': 1250,\n",
       "  '1.84': 1182,\n",
       "  '14.2': 320,\n",
       "  '3.95': 1140,\n",
       "  '7.72': 389,\n",
       "  '72.3': 256},\n",
       " 'Llama-2-Chat': {'13.0': 1188, '6.74': 844, '69.0': 1110},\n",
       " 'Phi-2': {'2.78': 1283},\n",
       " 'Mistral-Instruct-v0.2': {'7.24': 351}}"
      ]
     },
     "execution_count": 38,
     "metadata": {},
     "output_type": "execute_result"
    }
   ],
   "execution_count": 38
  },
  {
   "cell_type": "code",
   "source": [
    "all_sizes = set()\n",
    "for model, sizes in sorted_models_counts.items():\n",
    "    all_sizes.update([float(size) for size in sizes.keys()])"
   ],
   "metadata": {
    "collapsed": false,
    "ExecuteTime": {
     "end_time": "2024-06-10T02:22:12.221450Z",
     "start_time": "2024-06-10T02:22:12.218571Z"
    }
   },
   "id": "b710a8c3ddc27d72",
   "outputs": [],
   "execution_count": 39
  },
  {
   "cell_type": "code",
   "source": [
    "for model, sizes in sorted_models_counts.items():\n",
    "    for size in all_sizes:\n",
    "        if str(size) not in sizes:\n",
    "            sorted_models_counts[model][str(size)] = None\n",
    "\n",
    "sorted_models_counts = {model: {k: v for k, v in sorted(sizes.items(), key=lambda x: float(x[0]))} for model, sizes in\n",
    "                        sorted_models_counts.items()}\n",
    "\n",
    "sorted_models_counts"
   ],
   "metadata": {
    "collapsed": false,
    "ExecuteTime": {
     "end_time": "2024-06-10T02:22:12.672452Z",
     "start_time": "2024-06-10T02:22:12.669074Z"
    }
   },
   "id": "b15a0314538222ba",
   "outputs": [
    {
     "data": {
      "text/plain": [
       "{'Qwen1.5-Chat': {'0.62': 1250,\n",
       "  '1.84': 1182,\n",
       "  '2.78': None,\n",
       "  '3.95': 1140,\n",
       "  '6.74': None,\n",
       "  '7.24': None,\n",
       "  '7.72': 389,\n",
       "  '13.0': None,\n",
       "  '14.2': 320,\n",
       "  '69.0': None,\n",
       "  '72.3': 256},\n",
       " 'Llama-2-Chat': {'0.62': None,\n",
       "  '1.84': None,\n",
       "  '2.78': None,\n",
       "  '3.95': None,\n",
       "  '6.74': 844,\n",
       "  '7.24': None,\n",
       "  '7.72': None,\n",
       "  '13.0': 1188,\n",
       "  '14.2': None,\n",
       "  '69.0': 1110,\n",
       "  '72.3': None},\n",
       " 'Phi-2': {'0.62': None,\n",
       "  '1.84': None,\n",
       "  '2.78': 1283,\n",
       "  '3.95': None,\n",
       "  '6.74': None,\n",
       "  '7.24': None,\n",
       "  '7.72': None,\n",
       "  '13.0': None,\n",
       "  '14.2': None,\n",
       "  '69.0': None,\n",
       "  '72.3': None},\n",
       " 'Mistral-Instruct-v0.2': {'0.62': None,\n",
       "  '1.84': None,\n",
       "  '2.78': None,\n",
       "  '3.95': None,\n",
       "  '6.74': None,\n",
       "  '7.24': 351,\n",
       "  '7.72': None,\n",
       "  '13.0': None,\n",
       "  '14.2': None,\n",
       "  '69.0': None,\n",
       "  '72.3': None}}"
      ]
     },
     "execution_count": 40,
     "metadata": {},
     "output_type": "execute_result"
    }
   ],
   "execution_count": 40
  },
  {
   "cell_type": "code",
   "source": [
    "sorted_models_counts.pop(\"Llama-2-Chat\")"
   ],
   "metadata": {
    "collapsed": false,
    "ExecuteTime": {
     "end_time": "2024-06-10T02:22:13.464707Z",
     "start_time": "2024-06-10T02:22:13.461420Z"
    }
   },
   "id": "cd7a2a73d3508bf2",
   "outputs": [
    {
     "data": {
      "text/plain": [
       "{'0.62': None,\n",
       " '1.84': None,\n",
       " '2.78': None,\n",
       " '3.95': None,\n",
       " '6.74': 844,\n",
       " '7.24': None,\n",
       " '7.72': None,\n",
       " '13.0': 1188,\n",
       " '14.2': None,\n",
       " '69.0': 1110,\n",
       " '72.3': None}"
      ]
     },
     "execution_count": 41,
     "metadata": {},
     "output_type": "execute_result"
    }
   ],
   "execution_count": 41
  },
  {
   "metadata": {
    "ExecuteTime": {
     "end_time": "2024-06-10T02:27:46.266961Z",
     "start_time": "2024-06-10T02:27:46.262394Z"
    }
   },
   "cell_type": "code",
   "source": "not_empty_error_df = main_df[main_df['error'] != 'empty_response']",
   "id": "9a5c912bb7a3e220",
   "outputs": [],
   "execution_count": 51
  },
  {
   "cell_type": "code",
   "source": [
    "sns.set_theme(style=\"whitegrid\")\n",
    "\n",
    "markers = {\n",
    "    \"Qwen1.5-Chat\": \"o\",\n",
    "    \"Llama-2-Chat\": \"s\",\n",
    "    \"Mistral-Instruct-v0.2\": \"D\",\n",
    "    \"Mixtral-Instruct-v0.1\": \"P\",\n",
    "    \"CodeLlama-Instruct\": \"X\",\n",
    "    \"Phi-2\": \"v\",\n",
    "}\n",
    "\n",
    "for model, sizes in sorted_models_counts.items():\n",
    "    marker = markers[model]\n",
    "    df = pd.DataFrame([(float(k), v) for k, v in sizes.items()], columns=[\"Size\", \"Error Count\"])\n",
    "    plot = sns.lineplot(data=df, x=\"Size\", y=\"Error Count\", marker=marker, label=model, markersize=8)\n",
    "    # Annotate each point with model size\n",
    "    # for x, y in zip(df[\"Size\"], df[\"Error Count\"]):\n",
    "    #     plot.text(x, y + 3, f\"{x:.1f}B\", color=\"black\", ha=\"center\", va=\"bottom\", fontsize=10, rotation=90)\n",
    "\n",
    "# plot.set_title(\"Error Count of Models\")\n",
    "plot.set_xlabel(\"Model Size (Billion)\")\n",
    "# plot.set_ylim(650, 1850)\n",
    "\n",
    "# Position the model names at the end of the largest size of the model that is not None at the end of the line\n",
    "for line in plot.get_lines():\n",
    "    x, y = line.get_data()\n",
    "    model = line.get_label()\n",
    "    y_max = 0\n",
    "    for i, (x, y) in enumerate(zip(x, y)):\n",
    "        if y is not None:\n",
    "            y_max = y\n",
    "        # For each point, annotate the model size\n",
    "        # plot.text(x, y - 10, f\"{x}B\", color=line.get_color(), ha=\"center\", va=\"center\", fontsize=8)\n",
    "\n",
    "    # plot.text(x + 2, y_max + 7, model, color=line.get_color(), ha=\"left\", va=\"center\", fontsize=10, bbox=dict(facecolor=line.get_color(), alpha=0.1))\n",
    "\n",
    "# plot.get_legend().remove()\n",
    "# plt.legend(ncol=3, loc='center', bbox_to_anchor=(0.5, 1.1))\n",
    "plot.axhline(len(not_empty_error_df), color=\"red\", linestyle=\"--\")\n",
    "plot.axhline(len(not_empty_error_df) / 2, color=\"gray\", linestyle=\":\")\n",
    "plot.text(70, len(not_empty_error_df) + 22, f\"Total Error = {len(not_empty_error_df)}\", color=\"red\", ha=\"right\", va=\"center\", fontsize=10)\n",
    "plot.text(70, len(not_empty_error_df) / 2 + 22, \"50%\", color=\"gray\", ha=\"right\", va=\"center\", fontsize=10)\n",
    "\n",
    "# # Position the associated values below each data point\n",
    "# for line in plot.get_lines():\n",
    "#     x, y = line.get_data()\n",
    "#     for i, (x, y) in enumerate(zip(x, y)):\n",
    "#         plot.text(x, y - 3, f\"{y:.0f}\", color=line.get_color(), ha=\"center\", va=\"top\")\n",
    "\n",
    "plt.show()\n",
    "\n",
    "# Save the plot at high ppi\n",
    "plot.get_figure().savefig(\"scaling_study.png\", dpi=300, bbox_inches=\"tight\")"
   ],
   "metadata": {
    "collapsed": false,
    "ExecuteTime": {
     "end_time": "2024-06-10T02:27:46.744267Z",
     "start_time": "2024-06-10T02:27:46.449839Z"
    }
   },
   "id": "4c2ac6fe2f65a4e9",
   "outputs": [
    {
     "data": {
      "text/plain": [
       "<Figure size 640x480 with 1 Axes>"
      ],
      "image/png": "[encoded data removed]"
     },
     "metadata": {},
     "output_type": "display_data"
    }
   ],
   "execution_count": 52
  }
 ],
 "metadata": {
  "kernelspec": {
   "display_name": "Python 3",
   "language": "python",
   "name": "python3"
  },
  "language_info": {
   "codemirror_mode": {
    "name": "ipython",
    "version": 2
   },
   "file_extension": ".py",
   "mimetype": "text/x-python",
   "name": "python",
   "nbconvert_exporter": "python",
   "pygments_lexer": "ipython2",
   "version": "2.7.6"
  }
 },
 "nbformat": 4,
 "nbformat_minor": 5
}
