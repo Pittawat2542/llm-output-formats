{
 "cells": [
  {
   "cell_type": "code",
   "execution_count": 1,
   "id": "initial_id",
   "metadata": {
    "collapsed": true,
    "ExecuteTime": {
     "end_time": "2024-02-21T07:43:20.373446Z",
     "start_time": "2024-02-21T07:43:20.361280Z"
    }
   },
   "outputs": [],
   "source": [
    "from pathlib import Path\n",
    "import pandas as pd\n",
    "from scripts.analysis_utils import error_analysis"
   ]
  },
  {
   "cell_type": "markdown",
   "source": [
    "# Error Categorization"
   ],
   "metadata": {
    "collapsed": false
   },
   "id": "cfe12c1e45a6bf37"
  },
  {
   "cell_type": "code",
   "outputs": [],
   "source": [
    "root_path = Path(\"../experiment_results\")\n",
    "llms_path_outputs = root_path / \"outputs\""
   ],
   "metadata": {
    "collapsed": false,
    "ExecuteTime": {
     "end_time": "2024-02-21T07:43:20.376094Z",
     "start_time": "2024-02-21T07:43:20.374450Z"
    }
   },
   "id": "67160df90ff22c2e",
   "execution_count": 2
  },
  {
   "cell_type": "code",
   "outputs": [],
   "source": [
    "error_analysis(llms_path_outputs)"
   ],
   "metadata": {
    "collapsed": false,
    "ExecuteTime": {
     "end_time": "2024-02-21T07:43:22.175548Z",
     "start_time": "2024-02-21T07:43:20.377596Z"
    }
   },
   "id": "9230fd76ab481e60",
   "execution_count": 3
  },
  {
   "cell_type": "markdown",
   "source": [
    "## Save Filtered CSV"
   ],
   "metadata": {
    "collapsed": false
   },
   "id": "80958ee60cb4b7fa"
  },
  {
   "cell_type": "code",
   "outputs": [],
   "source": [
    "df = pd.read_csv(llms_path_outputs / \"error_categories.csv\")\n",
    "df = df[df[\"error\"] != \"empty_response\"]\n",
    "df.to_csv(llms_path_outputs / \"filtered_error_categories.csv\", index=False)"
   ],
   "metadata": {
    "collapsed": false,
    "ExecuteTime": {
     "end_time": "2024-02-21T07:43:22.185495Z",
     "start_time": "2024-02-21T07:43:22.176164Z"
    }
   },
   "id": "fa9616fcd7148ac2",
   "execution_count": 4
  },
  {
   "cell_type": "code",
   "outputs": [
    {
     "data": {
      "text/plain": "           task   model format    file             error  \\\n0     character  falcon   json  27.txt  key_completeness   \n1     character  falcon   json  34.txt  key_completeness   \n2     character  falcon   json  37.txt  key_completeness   \n3     character  falcon   json  54.txt  key_completeness   \n4     character  falcon   json  95.txt  key_completeness   \n...         ...     ...    ...     ...               ...   \n1783      story     mpt   yaml  75.txt  incorrect_syntax   \n1784      story     mpt   yaml  81.txt  incorrect_syntax   \n1785      story     mpt   yaml  84.txt  incorrect_syntax   \n1786      story     mpt   yaml  86.txt  incorrect_syntax   \n1787      story     mpt   yaml  95.txt  incorrect_syntax   \n\n                                          error_message  \n0                            The key 'game' is missing.  \n1                            The key 'game' is missing.  \n2                   The key 'game' is not a dictionary.  \n3                            The key 'game' is missing.  \n4                            The key 'game' is missing.  \n...                                                 ...  \n1783  while parsing a block mapping\\n  in \"<unicode ...  \n1784  while parsing a block mapping\\n  in \"<unicode ...  \n1785  while parsing a block mapping\\n  in \"<unicode ...  \n1786  mapping values are not allowed here\\n  in \"<un...  \n1787  mapping values are not allowed here\\n  in \"<un...  \n\n[1788 rows x 6 columns]",
      "text/html": "<div>\n<style scoped>\n    .dataframe tbody tr th:only-of-type {\n        vertical-align: middle;\n    }\n\n    .dataframe tbody tr th {\n        vertical-align: top;\n    }\n\n    .dataframe thead th {\n        text-align: right;\n    }\n</style>\n<table border=\"1\" class=\"dataframe\">\n  <thead>\n    <tr style=\"text-align: right;\">\n      <th></th>\n      <th>task</th>\n      <th>model</th>\n      <th>format</th>\n      <th>file</th>\n      <th>error</th>\n      <th>error_message</th>\n    </tr>\n  </thead>\n  <tbody>\n    <tr>\n      <th>0</th>\n      <td>character</td>\n      <td>falcon</td>\n      <td>json</td>\n      <td>27.txt</td>\n      <td>key_completeness</td>\n      <td>The key 'game' is missing.</td>\n    </tr>\n    <tr>\n      <th>1</th>\n      <td>character</td>\n      <td>falcon</td>\n      <td>json</td>\n      <td>34.txt</td>\n      <td>key_completeness</td>\n      <td>The key 'game' is missing.</td>\n    </tr>\n    <tr>\n      <th>2</th>\n      <td>character</td>\n      <td>falcon</td>\n      <td>json</td>\n      <td>37.txt</td>\n      <td>key_completeness</td>\n      <td>The key 'game' is not a dictionary.</td>\n    </tr>\n    <tr>\n      <th>3</th>\n      <td>character</td>\n      <td>falcon</td>\n      <td>json</td>\n      <td>54.txt</td>\n      <td>key_completeness</td>\n      <td>The key 'game' is missing.</td>\n    </tr>\n    <tr>\n      <th>4</th>\n      <td>character</td>\n      <td>falcon</td>\n      <td>json</td>\n      <td>95.txt</td>\n      <td>key_completeness</td>\n      <td>The key 'game' is missing.</td>\n    </tr>\n    <tr>\n      <th>...</th>\n      <td>...</td>\n      <td>...</td>\n      <td>...</td>\n      <td>...</td>\n      <td>...</td>\n      <td>...</td>\n    </tr>\n    <tr>\n      <th>1783</th>\n      <td>story</td>\n      <td>mpt</td>\n      <td>yaml</td>\n      <td>75.txt</td>\n      <td>incorrect_syntax</td>\n      <td>while parsing a block mapping\\n  in \"&lt;unicode ...</td>\n    </tr>\n    <tr>\n      <th>1784</th>\n      <td>story</td>\n      <td>mpt</td>\n      <td>yaml</td>\n      <td>81.txt</td>\n      <td>incorrect_syntax</td>\n      <td>while parsing a block mapping\\n  in \"&lt;unicode ...</td>\n    </tr>\n    <tr>\n      <th>1785</th>\n      <td>story</td>\n      <td>mpt</td>\n      <td>yaml</td>\n      <td>84.txt</td>\n      <td>incorrect_syntax</td>\n      <td>while parsing a block mapping\\n  in \"&lt;unicode ...</td>\n    </tr>\n    <tr>\n      <th>1786</th>\n      <td>story</td>\n      <td>mpt</td>\n      <td>yaml</td>\n      <td>86.txt</td>\n      <td>incorrect_syntax</td>\n      <td>mapping values are not allowed here\\n  in \"&lt;un...</td>\n    </tr>\n    <tr>\n      <th>1787</th>\n      <td>story</td>\n      <td>mpt</td>\n      <td>yaml</td>\n      <td>95.txt</td>\n      <td>incorrect_syntax</td>\n      <td>mapping values are not allowed here\\n  in \"&lt;un...</td>\n    </tr>\n  </tbody>\n</table>\n<p>1788 rows × 6 columns</p>\n</div>"
     },
     "execution_count": 5,
     "metadata": {},
     "output_type": "execute_result"
    }
   ],
   "source": [
    "df = pd.read_csv(llms_path_outputs / \"filtered_error_categories.csv\")\n",
    "df"
   ],
   "metadata": {
    "collapsed": false,
    "ExecuteTime": {
     "end_time": "2024-02-21T07:43:22.193029Z",
     "start_time": "2024-02-21T07:43:22.186355Z"
    }
   },
   "id": "5c32b8edb12bcf48",
   "execution_count": 5
  }
 ],
 "metadata": {
  "kernelspec": {
   "display_name": "Python 3",
   "language": "python",
   "name": "python3"
  },
  "language_info": {
   "codemirror_mode": {
    "name": "ipython",
    "version": 2
   },
   "file_extension": ".py",
   "mimetype": "text/x-python",
   "name": "python",
   "nbconvert_exporter": "python",
   "pygments_lexer": "ipython2",
   "version": "2.7.6"
  }
 },
 "nbformat": 4,
 "nbformat_minor": 5
}
