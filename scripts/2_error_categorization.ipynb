{
 "cells": [
  {
   "cell_type": "code",
   "id": "initial_id",
   "metadata": {
    "collapsed": true,
    "ExecuteTime": {
     "end_time": "2024-04-22T06:54:07.405784Z",
     "start_time": "2024-04-22T06:54:07.125801Z"
    }
   },
   "source": [
    "from pathlib import Path\n",
    "import pandas as pd\n",
    "from scripts.analysis_utils import error_analysis"
   ],
   "outputs": [],
   "execution_count": 1
  },
  {
   "cell_type": "markdown",
   "source": [
    "# Error Categorization"
   ],
   "metadata": {
    "collapsed": false
   },
   "id": "cfe12c1e45a6bf37"
  },
  {
   "cell_type": "code",
   "source": [
    "root_path = Path(\"../experiment_results\")\n",
    "llms_path_outputs = root_path / \"outputs\""
   ],
   "metadata": {
    "collapsed": false,
    "ExecuteTime": {
     "end_time": "2024-04-22T06:54:07.481043Z",
     "start_time": "2024-04-22T06:54:07.479423Z"
    }
   },
   "id": "67160df90ff22c2e",
   "outputs": [],
   "execution_count": 2
  },
  {
   "cell_type": "code",
   "source": [
    "error_analysis(llms_path_outputs)"
   ],
   "metadata": {
    "collapsed": false,
    "ExecuteTime": {
     "end_time": "2024-04-22T06:54:08.982144Z",
     "start_time": "2024-04-22T06:54:07.662759Z"
    }
   },
   "id": "9230fd76ab481e60",
   "outputs": [],
   "execution_count": 3
  },
  {
   "cell_type": "markdown",
   "source": [
    "## Save Filtered CSV"
   ],
   "metadata": {
    "collapsed": false
   },
   "id": "80958ee60cb4b7fa"
  },
  {
   "cell_type": "code",
   "source": [
    "df = pd.read_csv(llms_path_outputs / \"error_categories.csv\")\n",
    "df = df[df[\"error\"] != \"empty_response\"]\n",
    "df.to_csv(llms_path_outputs / \"filtered_error_categories.csv\", index=False)"
   ],
   "metadata": {
    "collapsed": false,
    "ExecuteTime": {
     "end_time": "2024-04-22T06:54:08.991666Z",
     "start_time": "2024-04-22T06:54:08.983043Z"
    }
   },
   "id": "fa9616fcd7148ac2",
   "outputs": [],
   "execution_count": 4
  },
  {
   "cell_type": "code",
   "source": [
    "df = pd.read_csv(llms_path_outputs / \"filtered_error_categories.csv\")\n",
    "df"
   ],
   "metadata": {
    "collapsed": false,
    "ExecuteTime": {
     "end_time": "2024-04-22T06:54:08.999024Z",
     "start_time": "2024-04-22T06:54:08.992315Z"
    }
   },
   "id": "5c32b8edb12bcf48",
   "outputs": [
    {
     "data": {
      "text/plain": [
       "           task   model format    file             error  \\\n",
       "0     character  falcon   json  27.txt  key_completeness   \n",
       "1     character  falcon   json  34.txt  key_completeness   \n",
       "2     character  falcon   json  37.txt  key_completeness   \n",
       "3     character  falcon   json  54.txt  key_completeness   \n",
       "4     character  falcon   json  95.txt  key_completeness   \n",
       "...         ...     ...    ...     ...               ...   \n",
       "1424      story     mpt   yaml  75.txt  incorrect_syntax   \n",
       "1425      story     mpt   yaml  81.txt  incorrect_syntax   \n",
       "1426      story     mpt   yaml  84.txt  incorrect_syntax   \n",
       "1427      story     mpt   yaml  86.txt  incorrect_syntax   \n",
       "1428      story     mpt   yaml  95.txt  incorrect_syntax   \n",
       "\n",
       "                                          error_message  \n",
       "0                            The key 'game' is missing.  \n",
       "1                            The key 'game' is missing.  \n",
       "2                   The key 'game' is not a dictionary.  \n",
       "3                            The key 'game' is missing.  \n",
       "4                            The key 'game' is missing.  \n",
       "...                                                 ...  \n",
       "1424  while parsing a block mapping\\n  in \"<unicode ...  \n",
       "1425  while parsing a block mapping\\n  in \"<unicode ...  \n",
       "1426  while parsing a block mapping\\n  in \"<unicode ...  \n",
       "1427  mapping values are not allowed here\\n  in \"<un...  \n",
       "1428  mapping values are not allowed here\\n  in \"<un...  \n",
       "\n",
       "[1429 rows x 6 columns]"
      ],
      "text/html": [
       "<div>\n",
       "<style scoped>\n",
       "    .dataframe tbody tr th:only-of-type {\n",
       "        vertical-align: middle;\n",
       "    }\n",
       "\n",
       "    .dataframe tbody tr th {\n",
       "        vertical-align: top;\n",
       "    }\n",
       "\n",
       "    .dataframe thead th {\n",
       "        text-align: right;\n",
       "    }\n",
       "</style>\n",
       "<table border=\"1\" class=\"dataframe\">\n",
       "  <thead>\n",
       "    <tr style=\"text-align: right;\">\n",
       "      <th></th>\n",
       "      <th>task</th>\n",
       "      <th>model</th>\n",
       "      <th>format</th>\n",
       "      <th>file</th>\n",
       "      <th>error</th>\n",
       "      <th>error_message</th>\n",
       "    </tr>\n",
       "  </thead>\n",
       "  <tbody>\n",
       "    <tr>\n",
       "      <th>0</th>\n",
       "      <td>character</td>\n",
       "      <td>falcon</td>\n",
       "      <td>json</td>\n",
       "      <td>27.txt</td>\n",
       "      <td>key_completeness</td>\n",
       "      <td>The key 'game' is missing.</td>\n",
       "    </tr>\n",
       "    <tr>\n",
       "      <th>1</th>\n",
       "      <td>character</td>\n",
       "      <td>falcon</td>\n",
       "      <td>json</td>\n",
       "      <td>34.txt</td>\n",
       "      <td>key_completeness</td>\n",
       "      <td>The key 'game' is missing.</td>\n",
       "    </tr>\n",
       "    <tr>\n",
       "      <th>2</th>\n",
       "      <td>character</td>\n",
       "      <td>falcon</td>\n",
       "      <td>json</td>\n",
       "      <td>37.txt</td>\n",
       "      <td>key_completeness</td>\n",
       "      <td>The key 'game' is not a dictionary.</td>\n",
       "    </tr>\n",
       "    <tr>\n",
       "      <th>3</th>\n",
       "      <td>character</td>\n",
       "      <td>falcon</td>\n",
       "      <td>json</td>\n",
       "      <td>54.txt</td>\n",
       "      <td>key_completeness</td>\n",
       "      <td>The key 'game' is missing.</td>\n",
       "    </tr>\n",
       "    <tr>\n",
       "      <th>4</th>\n",
       "      <td>character</td>\n",
       "      <td>falcon</td>\n",
       "      <td>json</td>\n",
       "      <td>95.txt</td>\n",
       "      <td>key_completeness</td>\n",
       "      <td>The key 'game' is missing.</td>\n",
       "    </tr>\n",
       "    <tr>\n",
       "      <th>...</th>\n",
       "      <td>...</td>\n",
       "      <td>...</td>\n",
       "      <td>...</td>\n",
       "      <td>...</td>\n",
       "      <td>...</td>\n",
       "      <td>...</td>\n",
       "    </tr>\n",
       "    <tr>\n",
       "      <th>1424</th>\n",
       "      <td>story</td>\n",
       "      <td>mpt</td>\n",
       "      <td>yaml</td>\n",
       "      <td>75.txt</td>\n",
       "      <td>incorrect_syntax</td>\n",
       "      <td>while parsing a block mapping\\n  in \"&lt;unicode ...</td>\n",
       "    </tr>\n",
       "    <tr>\n",
       "      <th>1425</th>\n",
       "      <td>story</td>\n",
       "      <td>mpt</td>\n",
       "      <td>yaml</td>\n",
       "      <td>81.txt</td>\n",
       "      <td>incorrect_syntax</td>\n",
       "      <td>while parsing a block mapping\\n  in \"&lt;unicode ...</td>\n",
       "    </tr>\n",
       "    <tr>\n",
       "      <th>1426</th>\n",
       "      <td>story</td>\n",
       "      <td>mpt</td>\n",
       "      <td>yaml</td>\n",
       "      <td>84.txt</td>\n",
       "      <td>incorrect_syntax</td>\n",
       "      <td>while parsing a block mapping\\n  in \"&lt;unicode ...</td>\n",
       "    </tr>\n",
       "    <tr>\n",
       "      <th>1427</th>\n",
       "      <td>story</td>\n",
       "      <td>mpt</td>\n",
       "      <td>yaml</td>\n",
       "      <td>86.txt</td>\n",
       "      <td>incorrect_syntax</td>\n",
       "      <td>mapping values are not allowed here\\n  in \"&lt;un...</td>\n",
       "    </tr>\n",
       "    <tr>\n",
       "      <th>1428</th>\n",
       "      <td>story</td>\n",
       "      <td>mpt</td>\n",
       "      <td>yaml</td>\n",
       "      <td>95.txt</td>\n",
       "      <td>incorrect_syntax</td>\n",
       "      <td>mapping values are not allowed here\\n  in \"&lt;un...</td>\n",
       "    </tr>\n",
       "  </tbody>\n",
       "</table>\n",
       "<p>1429 rows × 6 columns</p>\n",
       "</div>"
      ]
     },
     "execution_count": 5,
     "metadata": {},
     "output_type": "execute_result"
    }
   ],
   "execution_count": 5
  }
 ],
 "metadata": {
  "kernelspec": {
   "display_name": "Python 3",
   "language": "python",
   "name": "python3"
  },
  "language_info": {
   "codemirror_mode": {
    "name": "ipython",
    "version": 2
   },
   "file_extension": ".py",
   "mimetype": "text/x-python",
   "name": "python",
   "nbconvert_exporter": "python",
   "pygments_lexer": "ipython2",
   "version": "2.7.6"
  }
 },
 "nbformat": 4,
 "nbformat_minor": 5
}
